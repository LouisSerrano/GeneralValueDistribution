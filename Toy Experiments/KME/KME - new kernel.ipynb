{
 "cells": [
  {
   "cell_type": "code",
   "execution_count": 11,
   "metadata": {},
   "outputs": [],
   "source": [
    "import numpy as np\n",
    "import matplotlib.pyplot as plt\n",
    "import os, jdc, shutil\n",
    "from tqdm import tqdm\n",
    "import seaborn as sns\n",
    "import scipy.stats as st\n",
    "import tensorflow as tf\n",
    "import pandas as pd\n",
    "import random\n",
    "from collections import deque\n",
    "import random\n",
    "\n",
    "path = '/Users/louisserrano/Documents/Oxford/Courses/Trinity/Dissertation/Code/Toy Experiments/'\n",
    "os.chdir(path)\n",
    "\n",
    "from Scripts.rl_glue_horde import RLGlueHorde\n",
    "from Scripts.toy_env_horde import ToyEnvironment\n",
    "from Scripts.MC.monteCarloHorde import MonteCarloHorde\n",
    "from Scripts.utils import bernouilli_cumulant, gaussian_cumulant, wall_detector_cumulant, gvd_based_cumulant, ReplayBuffer\n",
    "from Scripts.utils import plot_q_values\n",
    "\n",
    "path = '/Users/louisserrano/Documents/Oxford/Courses/Trinity/Dissertation/Code/Toy Experiments/Notebooks/KME'\n",
    "os.chdir(path)"
   ]
  },
  {
   "cell_type": "code",
   "execution_count": 2,
   "metadata": {},
   "outputs": [],
   "source": [
    "def run_experiment(horde_info, \n",
    "                   num_episodes=1,\n",
    "                   plot_freq = 10,\n",
    "                   value_error_threshold=1e-8):\n",
    "    \n",
    "    env = ToyEnvironment\n",
    "    horde = MonteCarloHorde\n",
    "    rl_glue = RLGlueHorde(env, horde)\n",
    "\n",
    "    rl_glue.rl_init(horde_info)\n",
    "\n",
    "    for episode in range(1, num_episodes + 1):\n",
    "        rl_glue.rl_episode(0) # no step limit\n",
    "    \n",
    "    return rl_glue"
   ]
  },
  {
   "cell_type": "code",
   "execution_count": 3,
   "metadata": {},
   "outputs": [],
   "source": [
    "policy = np.ones(shape=(6 * 10, 4)) * 0.25\n",
    "random.seed(50)\n",
    "policy_3 = np.zeros((6*10, 4))\n",
    "policy_3[:,1] = 1\n",
    "\n",
    "GVD_1 = {\n",
    "    \"control\": False,\n",
    "    \"policy\" : policy,\n",
    "    \"transition_gen\" : gaussian_cumulant,\n",
    "    \"transition_gen_params\" : {}}\n",
    "\n",
    "horde_info = {\n",
    "    \"GVDs_info\" : [GVD_1],\n",
    "    \"num_quantiles\" : 51,\n",
    "    \"policy\" : policy,\n",
    "}"
   ]
  },
  {
   "cell_type": "markdown",
   "metadata": {},
   "source": [
    "# 1st Kernel"
   ]
  },
  {
   "cell_type": "code",
   "execution_count": 5,
   "metadata": {},
   "outputs": [],
   "source": [
    "def get_kernel_state_action_features(state, action):\n",
    "    num_actions = 4\n",
    "    a_v = np.zeros(num_actions)\n",
    "    a_v[action] = 1\n",
    "    s_v = np.array([(state//10)/6, (state%10)/10])\n",
    "    phi = np.hstack([s_v, a_v])\n",
    "    return phi"
   ]
  },
  {
   "cell_type": "code",
   "execution_count": 8,
   "metadata": {},
   "outputs": [
    {
     "data": {
      "text/plain": [
       "array([ 0.33333333,  0.3       ,  0.        , -1.        ])"
      ]
     },
     "execution_count": 8,
     "metadata": {},
     "output_type": "execute_result"
    }
   ],
   "source": [
    "get_kernel_state_action_features2(23,3)"
   ]
  },
  {
   "cell_type": "code",
   "execution_count": 62,
   "metadata": {},
   "outputs": [],
   "source": [
    "def computeStateActionKernelMatrix(GVF, sigma = 1):\n",
    "    num_actions = 4\n",
    "    dim_state = 2\n",
    "    actions = gvf.actions\n",
    "    states = gvf.states\n",
    "    n_ = len(actions)\n",
    "    p_ = dim_state + num_actions\n",
    "    state_action_features = np.zeros((p_,n_))\n",
    "    count = 0\n",
    "    for action, state in zip(actions, states):\n",
    "        state_action_features[:,count] = get_kernel_state_action_features(state, int(action))\n",
    "        count +=1\n",
    "    dotMatrix = np.dot(state_action_features.T, state_action_features)\n",
    "    v = np.diag(dotMatrix)\n",
    "    horizonTile = np.tile(v, (len(v), 1))\n",
    "    distMatrix = horizonTile + horizonTile.T - 2*dotMatrix\n",
    "    kernelMatrix = np.exp(-distMatrix/sigma**2)\n",
    "    return kernelMatrix"
   ]
  },
  {
   "cell_type": "code",
   "execution_count": 11,
   "metadata": {},
   "outputs": [],
   "source": [
    "def computeBeta(GVF, state, action, sigma = 0.1, reg = 0.001):\n",
    "    \n",
    "    ## compute State Action Kernel Matrix\n",
    "    num_actions = 4\n",
    "    dim_state = 2\n",
    "    actions = gvf.actions\n",
    "    states = gvf.states\n",
    "    n_ = len(actions)\n",
    "    p_ = dim_state + num_actions\n",
    "    state_action_features = np.zeros((p_,n_))\n",
    "    count = 0\n",
    "    for a, s in zip(actions, states):\n",
    "        state_action_features[:,count] = get_kernel_state_action_features(s, int(a))\n",
    "        count +=1\n",
    "    dotMatrix = np.dot(state_action_features.T, state_action_features)\n",
    "    v = np.diag(dotMatrix)\n",
    "    horizonTile = np.tile(v, (len(v), 1))\n",
    "    distMatrix = horizonTile + horizonTile.T - 2*dotMatrix\n",
    "    kernelMatrix = np.exp(-distMatrix/sigma**2)\n",
    "    \n",
    "    ## compute state_action_feature\n",
    "    state_action_feature = get_kernel_state_action_features(state, action)\n",
    "    k_x = v + np.sum(state_action_feature*state_action_feature) - 2*np.dot(state_action_features.T, state_action_feature)\n",
    "    k_x = np.exp(-k_x/sigma**2)\n",
    "    Beta = np.dot(np.linalg.inv(kernelMatrix + n_*reg*np.diag(np.ones(n_))), k_x)\n",
    "    \n",
    "    return Beta\n",
    "    "
   ]
  },
  {
   "cell_type": "code",
   "execution_count": 12,
   "metadata": {},
   "outputs": [],
   "source": [
    "rl = run_experiment(horde_info, num_episodes= 10)\n",
    "gvf = rl.horde.GVDs[0]"
   ]
  },
  {
   "cell_type": "code",
   "execution_count": 26,
   "metadata": {},
   "outputs": [],
   "source": [
    "sigma = 1\n",
    "actions = gvf.last_actions\n",
    "returns = gvf.returns\n",
    "reg = 1/(len(actions)*10)"
   ]
  },
  {
   "cell_type": "code",
   "execution_count": 27,
   "metadata": {},
   "outputs": [],
   "source": [
    "## compute State Action Kernel Matrix\n",
    "num_actions = 4\n",
    "dim_state = 2\n",
    "actions = gvf.last_actions\n",
    "states = gvf.last_states\n",
    "n_ = len(actions)\n",
    "p_ = dim_state + num_actions\n",
    "state_action_features = np.zeros((p_,n_))\n",
    "count = 0\n",
    "for a, s in zip(actions, states):\n",
    "    state_action_features[:,count] = get_kernel_state_action_features(s, int(a))\n",
    "    count +=1\n",
    "dotMatrix = np.dot(state_action_features.T, state_action_features)\n",
    "v = np.diag(dotMatrix)\n",
    "horizonTile = np.tile(v, (len(v), 1))\n",
    "distMatrix = horizonTile + horizonTile.T - 2*dotMatrix\n",
    "kernelMatrix = np.exp(-distMatrix/sigma**2)\n",
    "inv = np.linalg.inv(kernelMatrix + n_*reg*np.diag(np.ones(n_)))"
   ]
  },
  {
   "cell_type": "code",
   "execution_count": 28,
   "metadata": {},
   "outputs": [
    {
     "data": {
      "text/plain": [
       "array([[0.        , 2.02777778, 0.02777778, ..., 0.80444444, 3.05444444,\n",
       "        3.18444444],\n",
       "       [2.02777778, 0.        , 2.        , ..., 2.61      , 0.80444444,\n",
       "        0.93444444],\n",
       "       [0.02777778, 2.        , 0.        , ..., 0.61      , 2.80444444,\n",
       "        2.93444444],\n",
       "       ...,\n",
       "       [0.80444444, 2.61      , 0.61      , ..., 0.        , 2.02777778,\n",
       "        2.03777778],\n",
       "       [3.05444444, 0.80444444, 2.80444444, ..., 2.02777778, 0.        ,\n",
       "        0.01      ],\n",
       "       [3.18444444, 0.93444444, 2.93444444, ..., 2.03777778, 0.01      ,\n",
       "        0.        ]])"
      ]
     },
     "execution_count": 28,
     "metadata": {},
     "output_type": "execute_result"
    }
   ],
   "source": [
    "distMatrix"
   ]
  },
  {
   "cell_type": "code",
   "execution_count": 29,
   "metadata": {},
   "outputs": [],
   "source": [
    "distMatrixes = np.zeros((60, 4))"
   ]
  },
  {
   "cell_type": "code",
   "execution_count": 30,
   "metadata": {},
   "outputs": [],
   "source": [
    "gvf.setDataFrame()\n",
    "df = gvf.df"
   ]
  },
  {
   "cell_type": "code",
   "execution_count": 31,
   "metadata": {},
   "outputs": [],
   "source": [
    "# compute state_action_feature for each state action\n",
    "for state in range(60):\n",
    "    for action in range(4):\n",
    "        state_action_feature = get_kernel_state_action_features(state, action)\n",
    "        k_x = v + np.sum(state_action_feature*state_action_feature) - 2*np.dot(state_action_features.T, state_action_feature)\n",
    "        k_x = np.exp(-k_x/sigma)\n",
    "        Beta = np.dot(inv, k_x)\n",
    "        q_values[state, action] = np.sum(Beta*returns)"
   ]
  },
  {
   "cell_type": "code",
   "execution_count": 32,
   "metadata": {},
   "outputs": [
    {
     "data": {
      "image/png": "[encoded data removed]",
      "text/plain": [
       "<Figure size 432x288 with 2 Axes>"
      ]
     },
     "metadata": {
      "needs_background": "light"
     },
     "output_type": "display_data"
    }
   ],
   "source": [
    "q0 = q_values[:, 0]\n",
    "q1 = q_values[:, 1]\n",
    "q2 = q_values[:, 2]\n",
    "q3 = q_values[:, 3]\n",
    "\n",
    "h0 = sns.heatmap(q0.reshape(6,10), cmap = \"Blues\")"
   ]
  },
  {
   "cell_type": "code",
   "execution_count": 33,
   "metadata": {},
   "outputs": [
    {
     "data": {
      "image/png": "[encoded data removed]",
      "text/plain": [
       "<Figure size 432x288 with 2 Axes>"
      ]
     },
     "metadata": {
      "needs_background": "light"
     },
     "output_type": "display_data"
    }
   ],
   "source": [
    "h1 = sns.heatmap(q1.reshape(6,10), cmap = \"Blues\")"
   ]
  },
  {
   "cell_type": "code",
   "execution_count": 34,
   "metadata": {},
   "outputs": [
    {
     "data": {
      "image/png": "[encoded data removed]",
      "text/plain": [
       "<Figure size 432x288 with 2 Axes>"
      ]
     },
     "metadata": {
      "needs_background": "light"
     },
     "output_type": "display_data"
    }
   ],
   "source": [
    "h2 = sns.heatmap(q2.reshape(6,10), cmap = \"Blues\")"
   ]
  },
  {
   "cell_type": "code",
   "execution_count": 35,
   "metadata": {},
   "outputs": [
    {
     "data": {
      "image/png": "[encoded data removed]",
      "text/plain": [
       "<Figure size 432x288 with 2 Axes>"
      ]
     },
     "metadata": {
      "needs_background": "light"
     },
     "output_type": "display_data"
    }
   ],
   "source": [
    "h3 = sns.heatmap(q3.reshape(6,10), cmap = \"Blues\")"
   ]
  },
  {
   "cell_type": "code",
   "execution_count": 36,
   "metadata": {},
   "outputs": [],
   "source": [
    "## compute state_action_feature for each state action\n",
    "state = 23\n",
    "action = 1\n",
    "state_action_feature = get_kernel_state_action_features(state, action)\n",
    "k_x = v + np.sum(state_action_feature*state_action_feature) - 2*np.dot(state_action_features.T, state_action_feature)\n",
    "k_x = np.exp(-k_x/sigma)\n",
    "Beta = np.dot(inv, k_x)\n",
    "q_values[state, action] = np.sum(Beta*returns)"
   ]
  },
  {
   "cell_type": "code",
   "execution_count": 53,
   "metadata": {},
   "outputs": [],
   "source": [
    "ind = Beta > 0.001"
   ]
  },
  {
   "cell_type": "code",
   "execution_count": 47,
   "metadata": {},
   "outputs": [],
   "source": [
    "mask = (df['last_state'] == 23)&(df['last_action'] == 1)&(ind)"
   ]
  },
  {
   "cell_type": "code",
   "execution_count": 69,
   "metadata": {},
   "outputs": [],
   "source": [
    "#df.loc[mask]"
   ]
  },
  {
   "cell_type": "markdown",
   "metadata": {},
   "source": [
    "# 2nd Kernel"
   ]
  },
  {
   "cell_type": "code",
   "execution_count": 4,
   "metadata": {},
   "outputs": [],
   "source": [
    "def get_kernel_state_action_features2(state, action, weight_a = 2):\n",
    "    a_v = np.zeros(2)\n",
    "    if action == 0:\n",
    "        a_v[0] = 1\n",
    "    elif action == 1:\n",
    "        a_v[1] = 1\n",
    "    elif action == 2:\n",
    "        a_v[0] = -1\n",
    "    elif action == 3:\n",
    "        a_v[1] = -1\n",
    "        \n",
    "    a_v = a_v*weight_a\n",
    "    \n",
    "    s_v = np.array([(state//10), (state%10)])\n",
    "    phi = np.hstack([s_v, a_v])\n",
    "    return phi"
   ]
  },
  {
   "cell_type": "code",
   "execution_count": 5,
   "metadata": {},
   "outputs": [],
   "source": [
    "rl = run_experiment(horde_info, num_episodes= 20)\n",
    "gvf = rl.horde.GVDs[0]"
   ]
  },
  {
   "cell_type": "code",
   "execution_count": 35,
   "metadata": {},
   "outputs": [],
   "source": [
    "sigma = 5\n",
    "actions = gvf.last_actions\n",
    "returns = gvf.returns\n",
    "reg = 1/(len(actions)*10)"
   ]
  },
  {
   "cell_type": "code",
   "execution_count": 36,
   "metadata": {},
   "outputs": [],
   "source": [
    "## compute State Action Kernel Matrix\n",
    "dim_actions = 2\n",
    "dim_state = 2\n",
    "actions = gvf.last_actions\n",
    "states = gvf.last_states\n",
    "n_ = len(actions)\n",
    "p_ = dim_state + dim_actions\n",
    "state_action_features = np.zeros((p_,n_))\n",
    "count = 0\n",
    "for a, s in zip(actions, states):\n",
    "    state_action_features[:,count] = get_kernel_state_action_features2(s, int(a))\n",
    "    count +=1\n",
    "dotMatrix = np.dot(state_action_features.T, state_action_features)\n",
    "v = np.diag(dotMatrix)\n",
    "horizonTile = np.tile(v, (len(v), 1))\n",
    "distMatrix = horizonTile + horizonTile.T - 2*dotMatrix\n",
    "kernelMatrix = np.exp(-distMatrix/sigma**2)\n",
    "inv = np.linalg.inv(kernelMatrix + n_*reg*np.diag(np.ones(n_)))"
   ]
  },
  {
   "cell_type": "code",
   "execution_count": 37,
   "metadata": {},
   "outputs": [],
   "source": [
    "q_values = np.zeros((60, 4))"
   ]
  },
  {
   "cell_type": "code",
   "execution_count": 38,
   "metadata": {},
   "outputs": [],
   "source": [
    "# compute state_action_feature for each state action\n",
    "for state in range(60):\n",
    "    for action in range(4):\n",
    "        state_action_feature = get_kernel_state_action_features2(state, action)\n",
    "        k_x = v + np.sum(state_action_feature*state_action_feature) - 2*np.dot(state_action_features.T, state_action_feature)\n",
    "        k_x = np.exp(-k_x/sigma**2)\n",
    "        Beta = np.dot(inv, k_x)\n",
    "        q_values[state, action] = np.sum(Beta*returns)"
   ]
  },
  {
   "cell_type": "code",
   "execution_count": null,
   "metadata": {},
   "outputs": [],
   "source": [
    "q "
   ]
  },
  {
   "cell_type": "code",
   "execution_count": 68,
   "metadata": {},
   "outputs": [
    {
     "data": {
      "image/png": "[encoded data removed]",
      "text/plain": [
       "<Figure size 1152x720 with 8 Axes>"
      ]
     },
     "metadata": {
      "needs_background": "light"
     },
     "output_type": "display_data"
    }
   ],
   "source": [
    "sigma = 5\n",
    "q_values = np.load(\"results/q_sigma_{}.npy\".format(sigma))\n",
    "plot_q_values(q_values)\n",
    "plt.savefig(\"results/q_sigma_{}.png\".format(sigma), dpi = 300)"
   ]
  },
  {
   "cell_type": "code",
   "execution_count": 40,
   "metadata": {},
   "outputs": [],
   "source": [
    "v = np.mean(q_values, -1)\n",
    "np.save(\"results/q_sigma_{}\".format(sigma), q_values)\n",
    "np.save(\"results/v_sigma_{}\".format(sigma), v)"
   ]
  },
  {
   "cell_type": "code",
   "execution_count": 6,
   "metadata": {},
   "outputs": [],
   "source": [
    "mc_df = pd.read_csv('../GVD/results/monte_carlo/gaussian_policy_on_policy_returns')"
   ]
  },
  {
   "cell_type": "code",
   "execution_count": 7,
   "metadata": {},
   "outputs": [],
   "source": [
    "def get_returns(dataframe, last_state, last_action):\n",
    "    mask = (dataframe[\"last_state\"] == last_state)&(dataframe[\"last_action\"] == last_action)\n",
    "    return np.array(dataframe.loc[mask, \"return\"])"
   ]
  },
  {
   "cell_type": "code",
   "execution_count": 8,
   "metadata": {},
   "outputs": [
    {
     "name": "stderr",
     "output_type": "stream",
     "text": [
      "/Users/louisserrano/opt/anaconda3/lib/python3.7/site-packages/numpy/core/fromnumeric.py:3335: RuntimeWarning: Mean of empty slice.\n",
      "  out=out, **kwargs)\n",
      "/Users/louisserrano/opt/anaconda3/lib/python3.7/site-packages/numpy/core/_methods.py:161: RuntimeWarning: invalid value encountered in double_scalars\n",
      "  ret = ret.dtype.type(ret / rcount)\n"
     ]
    }
   ],
   "source": [
    "q_ref = np.zeros((60,4))\n",
    "for s in range(60):\n",
    "    for a in range(4):\n",
    "        z = get_returns(mc_df, s, a)\n",
    "        q_ref[s,a] = np.mean(z)"
   ]
  },
  {
   "cell_type": "code",
   "execution_count": 13,
   "metadata": {},
   "outputs": [],
   "source": [
    "np.save(\"results/q_ref\", q_ref)"
   ]
  },
  {
   "cell_type": "code",
   "execution_count": 14,
   "metadata": {},
   "outputs": [],
   "source": [
    "v_ref = np.mean(q_ref, -1)"
   ]
  },
  {
   "cell_type": "code",
   "execution_count": 47,
   "metadata": {},
   "outputs": [],
   "source": [
    "def calc_RMSVE(learned_state_val, true_state_val, state_distribution):\n",
    "    learned_state_val = np.squeeze(learned_state_val.reshape(-1, 1), -1)\n",
    "    assert(len(true_state_val) == len(learned_state_val) == len(state_distribution))\n",
    "    learned_state_val = np.nan_to_num(learned_state_val)\n",
    "    true_state_val = np.nan_to_num(true_state_val)\n",
    "    MSVE = np.sum(np.multiply(state_distribution, np.square(true_state_val - learned_state_val)))\n",
    "    RMSVE = np.sqrt(MSVE)\n",
    "    return RMSVE"
   ]
  },
  {
   "cell_type": "code",
   "execution_count": 41,
   "metadata": {},
   "outputs": [],
   "source": [
    "dist = rl.horde.horde_message(\"get state distribution\", 1)"
   ]
  },
  {
   "cell_type": "code",
   "execution_count": 43,
   "metadata": {},
   "outputs": [],
   "source": [
    "np.save(\"results/state_distrib\", dist)"
   ]
  },
  {
   "cell_type": "code",
   "execution_count": 48,
   "metadata": {},
   "outputs": [
    {
     "data": {
      "text/plain": [
       "0.3490036569087768"
      ]
     },
     "execution_count": 48,
     "metadata": {},
     "output_type": "execute_result"
    }
   ],
   "source": [
    "calc_RMSVE(v, v_ref, dist)"
   ]
  },
  {
   "cell_type": "code",
   "execution_count": 51,
   "metadata": {},
   "outputs": [],
   "source": [
    "RMSVEs = []\n",
    "for sigma in [0.5, 1, 2, 5]:\n",
    "    v = np.load(\"results/v_sigma_{}.npy\".format(sigma))\n",
    "    rmsve = calc_RMSVE(v, v_ref, dist)\n",
    "    RMSVEs.append(rmsve)"
   ]
  },
  {
   "cell_type": "code",
   "execution_count": 58,
   "metadata": {},
   "outputs": [],
   "source": [
    "df = pd.DataFrame({\"rmsve\" : RMSVEs})"
   ]
  },
  {
   "cell_type": "code",
   "execution_count": 63,
   "metadata": {},
   "outputs": [],
   "source": [
    "df.to_csv('results/RMSVE.csv', index = False)"
   ]
  },
  {
   "cell_type": "code",
   "execution_count": 69,
   "metadata": {},
   "outputs": [
    {
     "data": {
      "text/html": [
       "<div>\n",
       "<style scoped>\n",
       "    .dataframe tbody tr th:only-of-type {\n",
       "        vertical-align: middle;\n",
       "    }\n",
       "\n",
       "    .dataframe tbody tr th {\n",
       "        vertical-align: top;\n",
       "    }\n",
       "\n",
       "    .dataframe thead th {\n",
       "        text-align: right;\n",
       "    }\n",
       "</style>\n",
       "<table border=\"1\" class=\"dataframe\">\n",
       "  <thead>\n",
       "    <tr style=\"text-align: right;\">\n",
       "      <th></th>\n",
       "      <th>rmsve</th>\n",
       "    </tr>\n",
       "  </thead>\n",
       "  <tbody>\n",
       "    <tr>\n",
       "      <th>0</th>\n",
       "      <td>0.257864</td>\n",
       "    </tr>\n",
       "    <tr>\n",
       "      <th>1</th>\n",
       "      <td>0.258269</td>\n",
       "    </tr>\n",
       "    <tr>\n",
       "      <th>2</th>\n",
       "      <td>0.257312</td>\n",
       "    </tr>\n",
       "    <tr>\n",
       "      <th>3</th>\n",
       "      <td>0.349004</td>\n",
       "    </tr>\n",
       "  </tbody>\n",
       "</table>\n",
       "</div>"
      ],
      "text/plain": [
       "      rmsve\n",
       "0  0.257864\n",
       "1  0.258269\n",
       "2  0.257312\n",
       "3  0.349004"
      ]
     },
     "execution_count": 69,
     "metadata": {},
     "output_type": "execute_result"
    }
   ],
   "source": [
    "df"
   ]
  },
  {
   "cell_type": "code",
   "execution_count": null,
   "metadata": {},
   "outputs": [],
   "source": []
  }
 ],
 "metadata": {
  "kernelspec": {
   "display_name": "Python 3",
   "language": "python",
   "name": "python3"
  },
  "language_info": {
   "codemirror_mode": {
    "name": "ipython",
    "version": 3
   },
   "file_extension": ".py",
   "mimetype": "text/x-python",
   "name": "python",
   "nbconvert_exporter": "python",
   "pygments_lexer": "ipython3",
   "version": "3.7.6"
  }
 },
 "nbformat": 4,
 "nbformat_minor": 4
}
