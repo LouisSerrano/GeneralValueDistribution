{
 "cells": [
  {
   "cell_type": "code",
   "execution_count": 2,
   "metadata": {},
   "outputs": [
    {
     "ename": "ModuleNotFoundError",
     "evalue": "No module named 'rl_glue_horde'",
     "output_type": "error",
     "traceback": [
      "\u001b[0;31m---------------------------------------------------------------------------\u001b[0m",
      "\u001b[0;31mModuleNotFoundError\u001b[0m                       Traceback (most recent call last)",
      "\u001b[0;32m<ipython-input-2-a6de2b6571f2>\u001b[0m in \u001b[0;36m<module>\u001b[0;34m\u001b[0m\n\u001b[1;32m      4\u001b[0m \u001b[0;32mfrom\u001b[0m \u001b[0mtqdm\u001b[0m \u001b[0;32mimport\u001b[0m \u001b[0mtqdm\u001b[0m\u001b[0;34m\u001b[0m\u001b[0;34m\u001b[0m\u001b[0m\n\u001b[1;32m      5\u001b[0m \u001b[0;34m\u001b[0m\u001b[0m\n\u001b[0;32m----> 6\u001b[0;31m \u001b[0;32mfrom\u001b[0m \u001b[0mrl_glue_horde\u001b[0m \u001b[0;32mimport\u001b[0m \u001b[0mRLGlueHorde\u001b[0m\u001b[0;34m\u001b[0m\u001b[0;34m\u001b[0m\u001b[0m\n\u001b[0m\u001b[1;32m      7\u001b[0m \u001b[0;32mfrom\u001b[0m \u001b[0mhorde\u001b[0m \u001b[0;32mimport\u001b[0m \u001b[0mBaseHorde\u001b[0m\u001b[0;34m\u001b[0m\u001b[0;34m\u001b[0m\u001b[0m\n\u001b[1;32m      8\u001b[0m \u001b[0;32mfrom\u001b[0m \u001b[0mtoy_env_horde\u001b[0m \u001b[0;32mimport\u001b[0m \u001b[0mToyEnvironment\u001b[0m\u001b[0;34m\u001b[0m\u001b[0;34m\u001b[0m\u001b[0m\n",
      "\u001b[0;31mModuleNotFoundError\u001b[0m: No module named 'rl_glue_horde'"
     ]
    }
   ],
   "source": [
    "import numpy as np\n",
    "import matplotlib.pyplot as plt\n",
    "import os, jdc, shutil\n",
    "from tqdm import tqdm\n",
    "\n",
    "from rl_glue_horde import RLGlueHorde\n",
    "from horde import BaseHorde\n",
    "from toy_env_horde import ToyEnvironment\n",
    "import seaborn as sns\n",
    "import tiles3 as tc\n",
    "import scipy.stats as st\n",
    "import random"
   ]
  },
  {
   "cell_type": "code",
   "execution_count": 2,
   "metadata": {},
   "outputs": [],
   "source": [
    "class MazeTileCoder:\n",
    "    def __init__(self, iht_size=4096, num_tilings=4, num_tiles=4):\n",
    "        \"\"\"\n",
    "        Initializes the Maze Tile Coder\n",
    "        Initializers:\n",
    "        iht_size -- int, the size of the index hash table, typically a power of 2\n",
    "        num_tilings -- int, the number of tilings\n",
    "        num_tiles -- int, the number of tiles. Here both the width and height of the\n",
    "                     tile coder are the same\n",
    "        Class Variables:\n",
    "        self.iht -- tc.IHT, the index hash table that the tile coder will use\n",
    "        self.num_tilings -- int, the number of tilings the tile coder will use\n",
    "        self.num_tiles -- int, the number of tiles the tile coder will use\n",
    "        \"\"\"\n",
    "        self.iht = tc.IHT(iht_size)\n",
    "        self.iht_size = iht_size\n",
    "        self.num_tilings = num_tilings\n",
    "        self.num_tiles = num_tiles\n",
    "        \n",
    "    def get_observation(self, state):\n",
    "        return state//10, state%10\n",
    "    \n",
    "    def get_tiles(self, state):\n",
    "        i_scale = self.num_tiles / 5\n",
    "        j_scale = self.num_tiles / 9\n",
    "        \n",
    "        position_i, position_j = self.get_observation(state)\n",
    "        tiles = tc.tiles(self.iht, self.num_tilings, [(5 - position_i)*i_scale, \n",
    "                                                      position_j*j_scale])  \n",
    "        return np.array(tiles)\n",
    "    \n",
    "    def get_state_vector(self, state):\n",
    "        active_tile = self.get_tiles(state)\n",
    "        vector = np.zeros(self.iht_size)\n",
    "        vector[active_tile] = 1\n",
    "        return vector"
   ]
  },
  {
   "cell_type": "code",
   "execution_count": null,
   "metadata": {},
   "outputs": [],
   "source": [
    "### inherit the abstract class\n",
    "\n",
    "class Horde(BaseHorde):\n",
    "    \"\"\"Implements the agent for an RL-Glue environment.\n",
    "    Note:\n",
    "        agent_init, agent_start, agent_step, agent_end, agent_cleanup, and\n",
    "        agent_message are required methods.\n",
    "    \"\"\"\n",
    "\n",
    "    def horde_init(self, horde_info= {}):\n",
    "        # Create a random number generator with the provided seed to seed the agent for reproducibility.\n",
    "        self.rand_generator = np.random.RandomState(horde_info.get(\"seed\"))\n",
    "        # behaviour policy \n",
    "        self.policy = horde_info.get(\"policy\")\n",
    "        self.valueGVF_number = horde_info.get(\"valueGVF_number\")\n",
    "        self.actionGVF_number = horde_info.get(\"actionGVF_number\")\n",
    "        dic = {}\n",
    "        for j in range(1, self.valueGVF_number + 1):\n",
    "            name = \"V{}\".format(j)\n",
    "            if(horde_info.get(name) != None):\n",
    "                dic[name] = ValueGVF(horde_info.get(name))\n",
    "        for j in range(1, self.actionGVF_number + 1):\n",
    "            name = \"A{}\".format(j)\n",
    "            if(horde_info.get(name) != None):\n",
    "                dic[name] = ActionValueGVF(horde_info.get(name))\n",
    "        self.GVFs = dic\n",
    "        \"\"\"Setup for the agent called when the experiment first starts.\"\"\"\n",
    "\n",
    "    def horde_start(self, state):\n",
    "        \"\"\"The first method called when the experiment starts, called after\n",
    "        the environment starts.\n",
    "        Args:\n",
    "            observation (Numpy array): the state observation from the environment's env_start function.\n",
    "        Returns:\n",
    "            The first action the agent takes. \n",
    "        \"\"\"\n",
    "        action = self.rand_generator.choice(range(self.policy.shape[1]), p=self.policy[state])\n",
    "        \n",
    "        # value gvf\n",
    "        for j in range(1, self.valueGVF_number + 1):\n",
    "            name = \"V{}\".format(j)\n",
    "            gvf = self.GVFs.get(name)\n",
    "            if gvf != None:\n",
    "                gvf.start(state, action)\n",
    "                self.GVFs.update({name : gvf})\n",
    "            \n",
    "        # action value gvf\n",
    "        for j in range(1, self.actionGVF_number + 1):\n",
    "            name = \"A{}\".format(j)\n",
    "            gvf = self.GVFs.get(name)\n",
    "            if gvf != None:\n",
    "                gvf.start(state, action)\n",
    "                self.GVFs.update({name : gvf})\n",
    "            \n",
    "        self.last_state = state\n",
    "        self.last_action = action\n",
    "\n",
    "    def horde_step(self, state):\n",
    "        \"\"\"A step taken by the agent.\n",
    "        Args:\n",
    "            reward (float): the reward received for taking the last action taken\n",
    "            observation (Numpy array): the state observation from the\n",
    "                environment's step based, where the agent ended up after the\n",
    "                last step\n",
    "        Returns:\n",
    "            The action the agent is taking.\n",
    "        \"\"\"\n",
    "        # value gvf\n",
    "        action = self.rand_generator.choice(range(self.policy.shape[1]), p=self.policy[state])\n",
    "        \n",
    "        for j in range(1, self.valueGVF_number + 1):\n",
    "            name = \"V{}\".format(j)\n",
    "            gvf = self.GVFs.get(name)\n",
    "            if gvf != None:\n",
    "                rho = gvf.policy[self.last_state, self.last_action] / self.policy[self.last_state, self.last_action]\n",
    "                gvf.step(state, rho)\n",
    "                self.GVFs.update({name : gvf})\n",
    "            \n",
    "        # action value gvf    \n",
    "        for j in range(1, self.actionGVF_number + 1):\n",
    "            name = \"A{}\".format(j)\n",
    "            gvf = self.GVFs.get(name)\n",
    "            if gvf != None:\n",
    "                rho = gvf.policy[self.last_state, self.last_action] / self.policy[self.last_state, self.last_action]\n",
    "                gvf.step(state, action, rho)\n",
    "                self.GVFs.update({name : gvf})\n",
    "        \n",
    "        self.last_state = state\n",
    "        self.last_action = action\n",
    "        \n",
    "        return self.last_action\n",
    "\n",
    "    def horde_end(self, state):\n",
    "        \"\"\"Run when the agent terminates.\n",
    "        Args:\n",
    "            reward (float): the reward the agent received for entering the terminal state.\n",
    "        \"\"\"\n",
    "        action = self.rand_generator.choice(range(self.policy.shape[1]), p=self.policy[state])\n",
    "        \n",
    "        # value gvf\n",
    "        for j in range(1, self.valueGVF_number + 1):\n",
    "            name = \"V{}\".format(j)\n",
    "            gvf = self.GVFs.get(name)\n",
    "            if gvf != None:\n",
    "                rho = gvf.policy[self.last_state, self.last_action] / self.policy[self.last_state, self.last_action]\n",
    "                gvf.end(state, rho)\n",
    "                self.GVFs.update({name : gvf})\n",
    "            \n",
    "        # action value gvf    \n",
    "        for j in range(1, self.actionGVF_number + 1):\n",
    "            name = \"A{}\".format(j)\n",
    "            gvf = self.GVFs.get(name)\n",
    "            if gvf != None:\n",
    "                rho = gvf.policy[self.last_state, self.last_action] / self.policy[self.last_state, self.last_action]\n",
    "                gvf.end(state, action, rho)\n",
    "                self.GVFs.update({name : gvf})\n",
    "            \n",
    "    def horde_cleanup(self):\n",
    "        \"\"\"Cleanup done after the agent ends.\"\"\"\n",
    "\n",
    "    def horde_message(self, message):\n",
    "        \"\"\"A function used to pass information from the agent to the experiment.\n",
    "        Args:\n",
    "            message: The message passed to the agent.\n",
    "        Returns:\n",
    "            The response (or answer) to the message.\n",
    "        \"\"\"\n"
   ]
  },
  {
   "cell_type": "code",
   "execution_count": 5,
   "metadata": {},
   "outputs": [],
   "source": [
    "def run_experiment(horde_info, \n",
    "                   num_episodes=1,\n",
    "                   plot_freq = 10,\n",
    "                   value_error_threshold=1e-8):\n",
    "    \n",
    "    env = ToyEnvironment\n",
    "    horde = Horde\n",
    "    rl_glue = RLGlueHorde(env, horde)\n",
    "\n",
    "    rl_glue.rl_init(horde_info)\n",
    "\n",
    "    for episode in range(1, num_episodes + 1):\n",
    "        rl_glue.rl_episode(0) # no step limit\n",
    "\n",
    "    values = rl_glue.horde.horde_message(\"get_values\")\n",
    "    \n",
    "    return rl_glue, values"
   ]
  },
  {
   "cell_type": "code",
   "execution_count": 6,
   "metadata": {},
   "outputs": [],
   "source": [
    "class ActionValueGVF:\n",
    "    def __init__(self, agent_info={}):\n",
    "        \n",
    "        ## parameters\n",
    "        self.lambd = agent_info.get(\"lambda\", 0.1)\n",
    "        self.alpha = agent_info.get(\"alpha\", 0.1)\n",
    "        self.beta = agent_info.get(\"beta\", 0.01)\n",
    "        self.gamma = agent_info.get(\"gamma\", 0.95)\n",
    "        self.num_actions = agent_info.get(\"num_actions\", 4)\n",
    "        self.last_gamma = self.gamma\n",
    "        self.current_gamma = None\n",
    "        self.last_state = None\n",
    "        \n",
    "        ## tile coding\n",
    "        self.num_tilings = agent_info.get(\"num_tilings\", 4)\n",
    "        self.num_tiles = agent_info.get(\"num_tiles\", 4)\n",
    "        \n",
    "        #self.tc = AlternativeTileCoder(num_tilings=self.num_tilings, \n",
    "        # num_tiles=self.num_tiles)\n",
    "        self.iht_size = agent_info.get(\"iht_size\", 4096)\n",
    "        self.tc = MazeTileCoder(self.iht_size, self.num_tilings, self.num_tiles)\n",
    "        ## weights\n",
    "        self.weights = np.zeros(self.iht_size * self.num_actions)\n",
    "        self.hWeights = np.zeros(self.iht_size * self.num_actions)\n",
    "        self.eligTrace = np.zeros(self.iht_size * self.num_actions)\n",
    "        \n",
    "        ## objective state\n",
    "        i,j = agent_info.get(\"objective_state\", [2,4])\n",
    "        self.objective_state = i*10 + j\n",
    "        \n",
    "        ## distrib params\n",
    "        self.mu = agent_info.get(\"mu\", 10)\n",
    "        self.sigma = agent_info.get(\"sigma\", 0.001)\n",
    "        \n",
    "        self.cumulants = []\n",
    "        self.gammas = []\n",
    "        self.returns = []\n",
    "        self.states = []\n",
    "        self.actions = []\n",
    "        self.rhos = []\n",
    "        self.prodrhos = []\n",
    "        \n",
    "        self.control = agent_info.get(\"control\", False)\n",
    "        if not self.control:\n",
    "            self.policy = agent_info.get(\"policy\")\n",
    "        else:\n",
    "            self.policy = np.ones((60, self.num_actions))/self.num_actions\n",
    "        self.q_values = np.zeros((60, self.num_actions))\n",
    "        self.obstacles = [[2,1],[3,1],[4,1],[0,4],[1,4],[5,5],[1,7],[2,7],[2,8],[3,8]]\n",
    "        \n",
    "    def set_returns(self):\n",
    "        n = len(self.cumulants)\n",
    "        returns = [0]*n\n",
    "        prod = [0]*n\n",
    "        for j in range(n-1, -1, -1):\n",
    "            if j == len(returns) - 1:\n",
    "                returns[j] = self.cumulants[j]\n",
    "                prod[j] = self.rhos[j]\n",
    "            else:\n",
    "                returns[j] = self.cumulants[j] + self.gammas[j]*returns[j+1]\n",
    "                if self.gammas[j] == 0:\n",
    "                    prod[j] = self.rhos[j]\n",
    "                else:\n",
    "                    prod[j] = self.rhos[j]*prod[j+1]\n",
    "                    \n",
    "        self.rhos = []\n",
    "        self.gammas = []\n",
    "        self.cumulants = []\n",
    "        self.returns.extend(returns)\n",
    "        self.prodrhos.extend(prod)\n",
    "    \n",
    "    def get_vector(self, state, a):\n",
    "        state_vector = self.tc.get_state_vector(state)\n",
    "        n = len(state_vector)\n",
    "        state_action_vector = np.zeros(n*self.num_actions)\n",
    "        state_action_vector[a*n:(a+1)*n] = state_vector\n",
    "        return state_action_vector\n",
    "        \n",
    "    def transition_gen(self, state):\n",
    "        ## draw a random sample from a gaussian density when you reach the objective state\n",
    "        if state == self.objective_state:\n",
    "            cumulant = st.norm(self.mu, self.sigma).rvs(1)\n",
    "            gamma = 0\n",
    "        else:\n",
    "            cumulant = 0\n",
    "            gamma = self.gamma\n",
    "            \n",
    "        return cumulant, gamma\n",
    "                \n",
    "    def update_epsilon_greedy_policy(self, state):\n",
    "        arg_max = self.argmax(self.q_values[state])\n",
    "        for action in range(4):\n",
    "            if (action in arg_max):\n",
    "                self.policy[state, action] = (1-self.epsilon)/len(arg_max) + self.epsilon/4\n",
    "            else :\n",
    "                self.policy[state, action] = self.epsilon/4\n",
    "\n",
    "    \n",
    "    def start(self, state, action, rho = 1.0):\n",
    "        self.last_state = state\n",
    "        self.last_action = action\n",
    "    \n",
    "    def step(self, state, action, rho = 1.0): \n",
    "        # get relevant feature\n",
    "        \n",
    "        self.states.append(self.last_state)\n",
    "        self.actions.append(self.last_action)\n",
    "        self.rhos.append(rho)\n",
    "        \n",
    "        cumulant, gamma = self.transition_gen(state)\n",
    "        self.cumulant = cumulant\n",
    "        \n",
    "        self.cumulants.append(float(cumulant))\n",
    "        self.gammas.append(gamma)\n",
    "        \n",
    "        ## retrieve the values\n",
    "        last_vector = self.get_vector(self.last_state, self.last_action)\n",
    "        self.last_value = np.sum(self.weights*last_vector)\n",
    "        \n",
    "        self.last_gamma = gamma\n",
    "        self.last_state = state\n",
    "        self.last_action = action\n",
    "        \n",
    "    def end(self, state, action, rho = 1.0): \n",
    "        # get relevant feature\n",
    "        self.states.append(self.last_state)\n",
    "        self.actions.append(self.last_action)\n",
    "        self.rhos.append(rho)\n",
    "        \n",
    "        cumulant, gamma = self.transition_gen(state)\n",
    "        self.cumulant = cumulant\n",
    "        \n",
    "        self.cumulants.append(float(cumulant))\n",
    "        self.gammas.append(gamma)\n",
    "        \n",
    "        ## retrieve the values\n",
    "        last_vector = self.get_vector(self.last_state, self.last_action)\n",
    "        self.last_value = np.sum(self.weights*last_vector)\n",
    "        ## set the returns of the episode\n",
    "        self.set_returns()\n",
    "        \n",
    "        self.last_gamma = gamma\n",
    "        \n",
    "        #self.last_state = state\n",
    "        #self.last_action = action "
   ]
  },
  {
   "cell_type": "code",
   "execution_count": 23,
   "metadata": {},
   "outputs": [],
   "source": [
    "policy = np.ones(shape=(6 * 10, 4)) * 0.25\n",
    "random.seed(50)\n",
    "policy_2 = st.dirichlet.rvs(alpha = [1,7,1,1], size = 6*10)\n",
    "policy_3 = np.zeros((6*10, 4))\n",
    "policy_3[:,1] = 1\n",
    "\n",
    "A_info_1 = {\n",
    "    \"control\": False,\n",
    "    \"policy\": policy,\n",
    "    \"lambda\" : 0.1,\n",
    "    \"alpha\": 0.1/4,\n",
    "    \"sigma\": 2,\n",
    "    \"objective_state\" : [2,4], \n",
    "    \"num_tiles\" : 4,\n",
    "    \"num_tilings\" : 4}\n",
    "\n",
    "A_info_2 = {\n",
    "    \"policy\": policy,\n",
    "    \"lambda\" : 0.1,\n",
    "    \"alpha\": 0.1/4,\n",
    "    \"objective_state\" : [4,8]}\n",
    "\n",
    "horde_info = {\n",
    "    \"valueGVF_number\" : 0,\n",
    "    \"actionGVF_number\" : 1,\n",
    "    \"A1\" : A_info_1,\n",
    "    \"policy\" : policy\n",
    "}"
   ]
  },
  {
   "cell_type": "code",
   "execution_count": 24,
   "metadata": {},
   "outputs": [],
   "source": [
    "def run_experiment(horde_info, \n",
    "                   num_episodes=1,\n",
    "                   plot_freq = 10,\n",
    "                   value_error_threshold=1e-8):\n",
    "    \n",
    "    env = ToyEnvironment\n",
    "    horde = Horde\n",
    "    rl_glue = RLGlueHorde(env, horde)\n",
    "\n",
    "    rl_glue.rl_init(horde_info)\n",
    "\n",
    "    for episode in range(1, num_episodes + 1):\n",
    "        rl_glue.rl_episode(0) # no step limit\n",
    "    \n",
    "    return rl_glue"
   ]
  },
  {
   "cell_type": "code",
   "execution_count": 35,
   "metadata": {},
   "outputs": [],
   "source": [
    "rl = run_experiment(horde_info, num_episodes= 20)"
   ]
  },
  {
   "cell_type": "code",
   "execution_count": 36,
   "metadata": {},
   "outputs": [],
   "source": [
    "gvf = rl.horde.GVFs[\"A1\"]"
   ]
  },
  {
   "cell_type": "code",
   "execution_count": 37,
   "metadata": {},
   "outputs": [],
   "source": [
    "returns = rl.horde.GVFs[\"A1\"].returns"
   ]
  },
  {
   "cell_type": "code",
   "execution_count": 38,
   "metadata": {},
   "outputs": [],
   "source": [
    "actions = rl.horde.GVFs[\"A1\"].actions"
   ]
  },
  {
   "cell_type": "code",
   "execution_count": 39,
   "metadata": {},
   "outputs": [],
   "source": [
    "states = rl.horde.GVFs[\"A1\"].states"
   ]
  },
  {
   "cell_type": "code",
   "execution_count": 40,
   "metadata": {},
   "outputs": [],
   "source": [
    "rhos = rl.horde.GVFs[\"A1\"].prodrhos"
   ]
  },
  {
   "cell_type": "markdown",
   "metadata": {},
   "source": [
    "Kernel of the shape $k((s1, a1), (s2, a2)) = \\exp(\\frac{-\\|x_{s1, a1} - x_{s2, a2}\\|^2}{\\sigma})$"
   ]
  },
  {
   "cell_type": "code",
   "execution_count": 41,
   "metadata": {},
   "outputs": [],
   "source": [
    "def computeStateActionKernelMatrix(GVF, sigma = 1):\n",
    "    actions = gvf.actions\n",
    "    states = gvf.states\n",
    "    n_ = len(actions)\n",
    "    p_ = gvf.iht_size*gvf.num_actions\n",
    "    state_action_features = np.zeros((p_,n_))\n",
    "    count = 0\n",
    "    for action, state in zip(actions, states):\n",
    "        state_action_features[:,count] = GVF.get_vector(state, int(action))\n",
    "        count +=1\n",
    "    dotMatrix = np.dot(state_action_features.T, state_action_features)\n",
    "    v = np.diag(dotMatrix)\n",
    "    horizonTile = np.tile(v, (len(v), 1))\n",
    "    distMatrix = horizonTile + horizonTile.T - 2*dotMatrix\n",
    "    kernelMatrix = np.exp(-distMatrix/sigma)\n",
    "    return kernelMatrix"
   ]
  },
  {
   "cell_type": "code",
   "execution_count": 42,
   "metadata": {},
   "outputs": [],
   "source": [
    "kernelMatrix = computeStateActionKernelMatrix(gvf)"
   ]
  },
  {
   "cell_type": "code",
   "execution_count": 43,
   "metadata": {},
   "outputs": [],
   "source": [
    "def computeBeta(GVF, state, action, sigma = 0.1, reg = 0.001):\n",
    "    \n",
    "    ## compute State Action Kernel Matrix\n",
    "    actions = gvf.actions\n",
    "    states = gvf.states\n",
    "    n_ = len(actions)\n",
    "    p_ = gvf.num_tiles*gvf.num_tilings*gvf.num_actions\n",
    "    state_action_features = np.zeros((p_,n_))\n",
    "    count = 0\n",
    "    for a, s in zip(actions, states):\n",
    "        i,j = get_observation(s)\n",
    "        state_action_features[:,count] = GVF.get_vector(i, j, int(a))\n",
    "        count +=1\n",
    "    dotMatrix = np.dot(state_action_features.T, state_action_features)\n",
    "    v = np.diag(dotMatrix)\n",
    "    horizonTile = np.tile(v, (len(v), 1))\n",
    "    distMatrix = horizonTile + horizonTile.T - 2*dotMatrix\n",
    "    kernelMatrix = np.exp(-distMatrix/sigma)\n",
    "    \n",
    "    ## compute state_action_feature\n",
    "    i,j = get_observation(state)\n",
    "    state_action_feature = GVF.get_vector(i, j, action)\n",
    "    k_x = v + np.sum(state_action_feature*state_action_feature) - 2*np.dot(state_action_features.T, state_action_feature)\n",
    "    k_x = np.exp(-k_x/sigma)\n",
    "    Beta = np.dot(np.linalg.inv(kernelMatrix + n_*reg*np.diag(np.ones(n_))), k_x)\n",
    "    \n",
    "    return Beta\n",
    "    "
   ]
  },
  {
   "cell_type": "code",
   "execution_count": 44,
   "metadata": {},
   "outputs": [],
   "source": [
    "sigma = 1\n",
    "reg = 1/len(actions)"
   ]
  },
  {
   "cell_type": "code",
   "execution_count": 45,
   "metadata": {},
   "outputs": [],
   "source": [
    "## compute State Action Kernel Matrix\n",
    "actions = gvf.actions\n",
    "states = gvf.states\n",
    "n_ = len(actions)\n",
    "p_ = gvf.iht_size*gvf.num_actions\n",
    "state_action_features = np.zeros((p_,n_))\n",
    "count = 0\n",
    "for a, s in zip(actions, states):\n",
    "    state_action_features[:,count] = gvf.get_vector(s, int(a))\n",
    "    count +=1\n",
    "dotMatrix = np.dot(state_action_features.T, state_action_features)\n",
    "v = np.diag(dotMatrix)\n",
    "horizonTile = np.tile(v, (len(v), 1))\n",
    "distMatrix = horizonTile + horizonTile.T - 2*dotMatrix\n",
    "kernelMatrix = np.exp(-distMatrix/sigma)\n",
    "inv = np.linalg.inv(kernelMatrix + n_*reg*np.diag(np.ones(n_)))"
   ]
  },
  {
   "cell_type": "code",
   "execution_count": 46,
   "metadata": {},
   "outputs": [],
   "source": [
    "q_values = np.zeros((60, 4))"
   ]
  },
  {
   "cell_type": "code",
   "execution_count": 47,
   "metadata": {},
   "outputs": [],
   "source": [
    "## compute state_action_feature for each state action\n",
    "for state in range(60):\n",
    "    for action in range(4):\n",
    "        state_action_feature = gvf.get_vector(state, action)\n",
    "        k_x = v + np.sum(state_action_feature*state_action_feature) - 2*np.dot(state_action_features.T, state_action_feature)\n",
    "        k_x = np.exp(-k_x/sigma)\n",
    "        Beta = np.dot(inv, k_x)\n",
    "        q_values[state, action] = np.sum(Beta*returns)"
   ]
  },
  {
   "cell_type": "code",
   "execution_count": 48,
   "metadata": {},
   "outputs": [
    {
     "data": {
      "image/png": "[encoded data removed]",
      "text/plain": [
       "<Figure size 432x288 with 2 Axes>"
      ]
     },
     "metadata": {
      "needs_background": "light"
     },
     "output_type": "display_data"
    }
   ],
   "source": [
    "q0 = q_values[:, 0]\n",
    "q1 = q_values[:, 1]\n",
    "q2 = q_values[:, 2]\n",
    "q3 = q_values[:, 3]\n",
    "\n",
    "h0 = sns.heatmap(q0.reshape(6,10), cmap = \"Blues\")"
   ]
  },
  {
   "cell_type": "code",
   "execution_count": 49,
   "metadata": {},
   "outputs": [
    {
     "data": {
      "image/png": "[encoded data removed]",
      "text/plain": [
       "<Figure size 432x288 with 2 Axes>"
      ]
     },
     "metadata": {
      "needs_background": "light"
     },
     "output_type": "display_data"
    }
   ],
   "source": [
    "h1 = sns.heatmap(q1.reshape(6,10), cmap = \"Blues\")"
   ]
  },
  {
   "cell_type": "code",
   "execution_count": 50,
   "metadata": {},
   "outputs": [
    {
     "data": {
      "image/png": "[encoded data removed]",
      "text/plain": [
       "<Figure size 432x288 with 2 Axes>"
      ]
     },
     "metadata": {
      "needs_background": "light"
     },
     "output_type": "display_data"
    }
   ],
   "source": [
    "h2 = sns.heatmap(q2.reshape(6,10), cmap = \"Blues\")"
   ]
  },
  {
   "cell_type": "code",
   "execution_count": 51,
   "metadata": {},
   "outputs": [
    {
     "data": {
      "image/png": "[encoded data removed]",
      "text/plain": [
       "<Figure size 432x288 with 2 Axes>"
      ]
     },
     "metadata": {
      "needs_background": "light"
     },
     "output_type": "display_data"
    }
   ],
   "source": [
    "h3 = sns.heatmap(q3.reshape(6,10), cmap = \"Blues\")"
   ]
  },
  {
   "cell_type": "code",
   "execution_count": 612,
   "metadata": {},
   "outputs": [],
   "source": [
    "def prod_rhos(rhos):\n",
    "    n = len(rhos)\n",
    "    r = [0]*n\n",
    "    for j in range(n-1, -1, -1):\n",
    "        if j == len(rhos) - 1:\n",
    "            r[j] = rhos[j]\n",
    "        else:\n",
    "            r[j] = rhos[j]*r[j+1]\n",
    "        print(r[j])\n",
    "    return r"
   ]
  },
  {
   "cell_type": "code",
   "execution_count": null,
   "metadata": {},
   "outputs": [],
   "source": []
  }
 ],
 "metadata": {
  "kernelspec": {
   "display_name": "Python 3",
   "language": "python",
   "name": "python3"
  },
  "language_info": {
   "codemirror_mode": {
    "name": "ipython",
    "version": 3
   },
   "file_extension": ".py",
   "mimetype": "text/x-python",
   "name": "python",
   "nbconvert_exporter": "python",
   "pygments_lexer": "ipython3",
   "version": "3.7.6"
  }
 },
 "nbformat": 4,
 "nbformat_minor": 4
}
