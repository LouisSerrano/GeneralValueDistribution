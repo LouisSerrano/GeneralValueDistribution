{
 "cells": [
  {
   "cell_type": "code",
   "execution_count": 2,
   "metadata": {},
   "outputs": [],
   "source": [
    "import numpy as np\n",
    "import matplotlib.pyplot as plt\n",
    "import os, jdc, shutil\n",
    "from tqdm import tqdm\n",
    "import seaborn as sns\n",
    "import datetime\n",
    "import pickle\n",
    "import scipy.stats as st\n",
    "import tensorflow as tf\n",
    "import pandas as pd\n",
    "import random\n",
    "from collections import deque\n",
    "import random\n",
    "\n",
    "path = '/Users/louisserrano/Documents/Oxford/Courses/Trinity/Dissertation/Code/Toy Experiments/'\n",
    "os.chdir(path)\n",
    "\n",
    "from Scripts.rl_glue_horde import RLGlueHorde\n",
    "from Scripts.toy_env_horde import ToyEnvironment\n",
    "from Scripts.separateHorde.separateHorde import SeparateHorde\n",
    "from Scripts.utils import bernouilli_cumulant, gaussian_cumulant, wall_detector_cumulant, gvd_based_cumulant, ReplayBuffer\n",
    "from Scripts.utils import plot_q_values, save_theta, plot_theta\n",
    "\n",
    "path = '/Users/louisserrano/Documents/Oxford/Courses/Trinity/Dissertation/Code/Toy Experiments/Notebooks/GVD'\n",
    "os.chdir(path)"
   ]
  },
  {
   "cell_type": "code",
   "execution_count": 3,
   "metadata": {},
   "outputs": [],
   "source": [
    "v_policy3 = np.load(\"../../policies/v_policy3.npy\")\n",
    "v_opt =  np.load('../../policies/v_pi_opt.npy')"
   ]
  },
  {
   "cell_type": "code",
   "execution_count": 4,
   "metadata": {},
   "outputs": [],
   "source": [
    "def calc_RMSVE(learned_state_val, true_state_val, state_distribution):\n",
    "    learned_state_val = np.squeeze(learned_state_val.reshape(-1, 1), -1)\n",
    "    assert(len(true_state_val) == len(learned_state_val) == len(state_distribution))\n",
    "    learned_state_val = np.nan_to_num(learned_state_val)\n",
    "    MSVE = np.sum(np.multiply(state_distribution, np.square(true_state_val - learned_state_val)))\n",
    "    RMSVE = np.sqrt(MSVE)\n",
    "    return RMSVE"
   ]
  },
  {
   "cell_type": "code",
   "execution_count": 5,
   "metadata": {},
   "outputs": [],
   "source": [
    "# Define function to run experiment\n",
    "def run_experiment_2(filename, horde_info, env_info, gvd, v_pi, horde_parameters, experiment_parameters):\n",
    "    \n",
    "    env = ToyEnvironment\n",
    "    horde = SeparateHorde\n",
    "    rl_glue = RLGlueHorde(env, horde)\n",
    "    \n",
    "    for eta in horde_parameters[\"eta\"]:\n",
    "        # save rmsve at the end of each evaluation episode\n",
    "        # size: num_episode / episode_eval_frequency + 1 (includes evaluation at the beginning of training)\n",
    "\n",
    "        agent_rmsve = np.zeros(int(experiment_parameters[\"num_episodes\"]/experiment_parameters[\"episode_eval_frequency\"]))\n",
    "        # save learned state value at the end of each run\n",
    "        agent_state_val = np.zeros(60)\n",
    "\n",
    "        # one agent setting\n",
    "        for run in tqdm(range(1, experiment_parameters[\"num_runs\"]+1)):\n",
    "            np.random.seed(run)\n",
    "            random.seed(run)\n",
    "            env_info[\"seed\"] = run\n",
    "            horde_info[\"seed\"] = run\n",
    "            agent_info = horde_info[\"GVDs_info\"][gvd - 1]\n",
    "            agent_info.update({\"eta\" : eta})\n",
    "            rl_glue.rl_init(horde_info, env_info)\n",
    "\n",
    "            for episode in range(1, experiment_parameters[\"num_episodes\"] +1):\n",
    "                # run episode\n",
    "                rl_glue.rl_episode(0) # no step limit\n",
    "\n",
    "                if episode % experiment_parameters[\"episode_eval_frequency\"] == 0:\n",
    "\n",
    "                    current_V = rl_glue.horde.horde_message(\"get state values\", gvd)\n",
    "                    current_distribution = rl_glue.horde.horde_message(\"get state distribution\", gvd)\n",
    "                    agent_rmsve[int(episode/experiment_parameters[\"episode_eval_frequency\"])-1] += calc_RMSVE(current_V, v_pi, current_distribution)\n",
    "\n",
    "            # store only one run of state value\n",
    "            if run == experiment_parameters[\"num_runs\"]:\n",
    "                agent_state_val = rl_glue.horde.horde_message(\"get state values\", gvd)\n",
    "                agent_theta = rl_glue.horde.horde_message(\"get theta values\", gvd)\n",
    "\n",
    "        # rmsve averaged over runs\n",
    "        agent_rmsve /= experiment_parameters[\"num_runs\"]\n",
    "\n",
    "        save_name = \"{}_eta_{}\".format('GVD', eta).replace('.','')\n",
    "\n",
    "        #save_name = 'GTD_lambda_agent'\n",
    "\n",
    "        if not os.path.exists(filename):\n",
    "            os.makedirs(filename)\n",
    "        # save avg. state value\n",
    "        np.save(filename + \"/V_{}\".format(save_name), agent_state_val)\n",
    "        \n",
    "        # save theta\n",
    "        save_theta(filename + \"/theta_{}\".format(save_name), horde_info[\"GVDs_info\"][0], agent_theta)\n",
    "\n",
    "        # save avg. rmsve\n",
    "        np.save(filename + \"/RMSVE_{}\".format(save_name), agent_rmsve)"
   ]
  },
  {
   "cell_type": "code",
   "execution_count": 6,
   "metadata": {},
   "outputs": [],
   "source": [
    "def run_experiment(horde_info, \n",
    "                   env_info,\n",
    "                   num_episodes=1,\n",
    "                   plot_freq = 10,\n",
    "                   value_error_threshold=1e-8):\n",
    "    \n",
    "    env = ToyEnvironment\n",
    "    horde = SeparateHorde\n",
    "    rl_glue = RLGlueHorde(env, horde)\n",
    "    rl_glue.rl_init(horde_info, env_info)\n",
    "\n",
    "    for episode in range(1, num_episodes + 1):\n",
    "        rl_glue.rl_episode(0) # no step limit\n",
    "        if episode%plot_freq == 0:\n",
    "            print(episode)\n",
    "    \n",
    "    return rl_glue"
   ]
  },
  {
   "cell_type": "code",
   "execution_count": 7,
   "metadata": {},
   "outputs": [],
   "source": [
    "policy = np.ones(shape=(6 * 10, 4)) * 0.25\n",
    "policy_3 = np.zeros((6*10, 4))\n",
    "policy_3[:,1] = 1\n",
    "\n",
    "experiment_parameters = {\n",
    "    \"num_episodes\" : 1000,\n",
    "    \"num_runs\" : 3,\n",
    "    \"episode_eval_frequency\" : 1\n",
    "}\n",
    "env_info = {\n",
    "    \"end_states\" : [[0,8]]\n",
    "}\n",
    "\n",
    "horde_parameters = {\n",
    "    \"eta\": [0.00005, 0.0001, 0.0005, 0.001]\n",
    "}\n",
    "\n",
    "\n",
    "GVD_1 = {\n",
    "    \"policy\": policy,\n",
    "    \"control\" : True,\n",
    "    \"replay_freq\" : 5,\n",
    "    \"update_freq\" : 5000,\n",
    "    \"batch_size\" : 32,\n",
    "    \"eta\" : 5e-4,\n",
    "    \"transition_gen\" : gaussian_cumulant}\n",
    "\n",
    "horde_info = {\n",
    "    \"GVDs_info\" : [GVD_1],\n",
    "    \"policy\" : policy,\n",
    "}"
   ]
  },
  {
   "cell_type": "code",
   "execution_count": 8,
   "metadata": {},
   "outputs": [
    {
     "name": "stdout",
     "output_type": "stream",
     "text": [
      "10\n",
      "20\n",
      "30\n",
      "40\n",
      "50\n",
      "60\n",
      "70\n",
      "80\n",
      "90\n",
      "100\n"
     ]
    }
   ],
   "source": [
    "rl = run_experiment(horde_info, env_info, 100)"
   ]
  },
  {
   "cell_type": "code",
   "execution_count": 9,
   "metadata": {},
   "outputs": [],
   "source": [
    "theta = rl.horde.horde_message(\"get theta values\", 1)\n",
    "q = rl.horde.horde_message(\"get action values\", 1)"
   ]
  },
  {
   "cell_type": "code",
   "execution_count": 10,
   "metadata": {},
   "outputs": [],
   "source": [
    "save_theta(\"results/evaluation/\", GVD_1, theta)"
   ]
  },
  {
   "cell_type": "code",
   "execution_count": 11,
   "metadata": {},
   "outputs": [],
   "source": [
    "theta = np.load('results/evaluation/bernouilli/20200829-003541/theta.npy')\n",
    "q = np.mean(theta, -1)"
   ]
  },
  {
   "cell_type": "code",
   "execution_count": 13,
   "metadata": {},
   "outputs": [
    {
     "data": {
      "image/png": "[encoded data removed]",
      "text/plain": [
       "<Figure size 1152x720 with 8 Axes>"
      ]
     },
     "metadata": {
      "needs_background": "light"
     },
     "output_type": "display_data"
    }
   ],
   "source": [
    "plot_q_values(q)\n",
    "plt.savefig('results/evaluation/bernouilli/20200829-003541/q_eta_5e5.png', dpi = 300)"
   ]
  },
  {
   "cell_type": "code",
   "execution_count": 8,
   "metadata": {},
   "outputs": [
    {
     "data": {
      "text/plain": [
       "<matplotlib.axes._subplots.AxesSubplot at 0x7ff91f1ed750>"
      ]
     },
     "execution_count": 8,
     "metadata": {},
     "output_type": "execute_result"
    },
    {
     "data": {
      "image/png": "[encoded data removed]",
      "text/plain": [
       "<Figure size 432x288 with 2 Axes>"
      ]
     },
     "metadata": {
      "needs_background": "light"
     },
     "output_type": "display_data"
    }
   ],
   "source": [
    "sns.heatmap(v_policy3.reshape(6,10), cmap = \"Blues\")"
   ]
  },
  {
   "cell_type": "code",
   "execution_count": 15,
   "metadata": {},
   "outputs": [
    {
     "data": {
      "image/png": "[encoded data removed]",
      "text/plain": [
       "<Figure size 576x432 with 1 Axes>"
      ]
     },
     "metadata": {
      "needs_background": "light"
     },
     "output_type": "display_data"
    }
   ],
   "source": [
    "plot_theta(theta, 44, 1)"
   ]
  },
  {
   "cell_type": "code",
   "execution_count": null,
   "metadata": {},
   "outputs": [
    {
     "name": "stderr",
     "output_type": "stream",
     "text": [
      "100%|██████████| 3/3 [1:28:54<00:00, 1778.18s/it]\n",
      "  0%|          | 0/3 [00:00<?, ?it/s]"
     ]
    }
   ],
   "source": [
    "filename = 'results/control/RMSVE'\n",
    "run_experiment_2(filename, horde_info, env_info, 1, v_opt, horde_parameters, experiment_parameters)"
   ]
  },
  {
   "cell_type": "code",
   "execution_count": 17,
   "metadata": {},
   "outputs": [],
   "source": [
    "#rl = run_experiment(horde_info, env_info,num_episodes= 1000)"
   ]
  },
  {
   "cell_type": "code",
   "execution_count": 9,
   "metadata": {},
   "outputs": [],
   "source": [
    "q = rl.horde.horde_message(\"get action values\" , 1)"
   ]
  },
  {
   "cell_type": "code",
   "execution_count": 11,
   "metadata": {},
   "outputs": [],
   "source": [
    "theta = rl.horde.horde_message(\"get theta values\", 1)"
   ]
  },
  {
   "cell_type": "code",
   "execution_count": 16,
   "metadata": {},
   "outputs": [],
   "source": [
    "save_theta('results/evaluation/gaussian/policy_3', GVD_1, theta)"
   ]
  },
  {
   "cell_type": "code",
   "execution_count": 10,
   "metadata": {},
   "outputs": [
    {
     "data": {
      "image/png": "[encoded data removed]",
      "text/plain": [
       "<Figure size 1152x720 with 8 Axes>"
      ]
     },
     "metadata": {
      "needs_background": "light"
     },
     "output_type": "display_data"
    }
   ],
   "source": [
    "plot_q_values(q)"
   ]
  },
  {
   "cell_type": "code",
   "execution_count": null,
   "metadata": {},
   "outputs": [],
   "source": []
  }
 ],
 "metadata": {
  "kernelspec": {
   "display_name": "Python 3",
   "language": "python",
   "name": "python3"
  },
  "language_info": {
   "codemirror_mode": {
    "name": "ipython",
    "version": 3
   },
   "file_extension": ".py",
   "mimetype": "text/x-python",
   "name": "python",
   "nbconvert_exporter": "python",
   "pygments_lexer": "ipython3",
   "version": "3.7.6"
  }
 },
 "nbformat": 4,
 "nbformat_minor": 4
}
