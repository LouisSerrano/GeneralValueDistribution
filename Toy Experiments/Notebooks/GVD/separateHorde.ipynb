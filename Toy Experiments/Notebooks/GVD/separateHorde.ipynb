{
 "cells": [
  {
   "cell_type": "code",
   "execution_count": 1,
   "metadata": {},
   "outputs": [],
   "source": [
    "import numpy as np\n",
    "import matplotlib.pyplot as plt\n",
    "import os, jdc, shutil\n",
    "from tqdm import tqdm\n",
    "import seaborn as sns\n",
    "import datetime\n",
    "import pickle\n",
    "import scipy.stats as st\n",
    "import tensorflow as tf\n",
    "import pandas as pd\n",
    "import random\n",
    "from collections import deque\n",
    "import random\n",
    "\n",
    "path = '/Users/louisserrano/Documents/Oxford/Courses/Trinity/Dissertation/Code/Toy Experiments/'\n",
    "os.chdir(path)\n",
    "\n",
    "from Scripts.rl_glue_horde import RLGlueHorde\n",
    "from Scripts.toy_env_horde import ToyEnvironment\n",
    "from Scripts.separateHorde.separateHorde import SeparateHorde\n",
    "from Scripts.utils import bernouilli_cumulant, gaussian_cumulant, wall_detector_cumulant, gvd_based_cumulant, ReplayBuffer, gaussian_vs_gaussian\n",
    "from Scripts.utils import plot_q_values, plot_theta, save_theta, visualize\n",
    "\n",
    "path = '/Users/louisserrano/Documents/Oxford/Courses/Trinity/Dissertation/Code/Toy Experiments/Notebooks/GVD'\n",
    "os.chdir(path)"
   ]
  },
  {
   "cell_type": "code",
   "execution_count": 2,
   "metadata": {},
   "outputs": [],
   "source": [
    "def run_experiment(horde_info, \n",
    "                   env_info,\n",
    "                   num_episodes=1,\n",
    "                   plot_freq = 10,\n",
    "                   value_error_threshold=1e-8):\n",
    "    \n",
    "    env = ToyEnvironment\n",
    "    horde = SeparateHorde\n",
    "    rl_glue = RLGlueHorde(env, horde)\n",
    "    rl_glue.rl_init(horde_info, env_info)\n",
    "\n",
    "    for episode in range(1, num_episodes + 1):\n",
    "        rl_glue.rl_episode(0) # no step limit\n",
    "        if episode%plot_freq == 0:\n",
    "            print(episode)\n",
    "    \n",
    "    return rl_glue"
   ]
  },
  {
   "cell_type": "code",
   "execution_count": 3,
   "metadata": {},
   "outputs": [],
   "source": [
    "near_wall_states = []\n",
    "for j in range(10):\n",
    "    near_wall_states.append([0, j])\n",
    "    near_wall_states.append([5, j])\n",
    "for i in range(6):\n",
    "    near_wall_states.append([i, 0])\n",
    "    near_wall_states.append([i, 9])"
   ]
  },
  {
   "cell_type": "code",
   "execution_count": 4,
   "metadata": {},
   "outputs": [],
   "source": [
    "def greedy_policy_gen(policy):\n",
    "    pi = np.zeros((60, 4))\n",
    "    for s in range(60):\n",
    "        pi[s, policy[s]] = 1\n",
    "    return pi"
   ]
  },
  {
   "cell_type": "code",
   "execution_count": 6,
   "metadata": {},
   "outputs": [],
   "source": [
    "policy = np.ones(shape=(6 * 10, 4)) * 0.25\n",
    "seed = 23\n",
    "np.random.seed(seed)\n",
    "random.seed(seed)\n",
    "tf.random.set_seed(seed)\n",
    "policy_4 = np.load(\"policy_4.npy\")\n",
    "policy_5 = np.load(\"policy_5.npy\")\n",
    "policy_6 = np.load(\"policy_6.npy\")\n",
    "file_path = 'results/monte_carlo/gaussian_policy4_returns_on_policy_ep_1000'\n",
    "\n",
    "# average loss only\n",
    "GVD_1 = {\n",
    "    \"control\": True,\n",
    "    \"transition_gen\" : gaussian_cumulant,\n",
    "    \"num_quantiles\" : 51,\n",
    "    \"replay_freq\" : 5,\n",
    "    \"update_freq\" : 500,\n",
    "    \"batch_size\" : 32,\n",
    "    \"adam_epsilon\" : 0.01/32,\n",
    "    \"eta\" : 0.00005,\n",
    "    \"file_path\" : file_path,\n",
    "    \"transition_gen_params\" : {}}\n",
    "\n",
    "GVD_2 = {\n",
    "    \"control\": False,\n",
    "    \"policy\" : policy_4,\n",
    "    \"average_loss\" : False,\n",
    "    \"transition_gen\" : gaussian_cumulant,\n",
    "    \"num_quantiles\" : 51,\n",
    "    \"replay_freq\" : 5,\n",
    "    \"update_freq\" : 500,\n",
    "    \"batch_size\" : 32,\n",
    "    \"adam_epsilon\" : 0.01/32,\n",
    "    \"eta\" : 0.00005,\n",
    "    \"transition_gen_params\" : {}}\n",
    "\n",
    "\n",
    "horde_info = {\n",
    "    \"GVDs_info\" : [GVD_1],\n",
    "    \"policy\" : policy,\n",
    "}\n",
    "\n",
    "env_info = {\n",
    "    \"end_states\" : [[0,8]]}\n",
    "\n",
    "exp_params = {\n",
    "    \"episodes\" : 1000\n",
    "}"
   ]
  },
  {
   "cell_type": "code",
   "execution_count": 7,
   "metadata": {},
   "outputs": [
    {
     "name": "stdout",
     "output_type": "stream",
     "text": [
      "100\n",
      "200\n",
      "300\n",
      "400\n",
      "500\n",
      "600\n",
      "700\n",
      "800\n",
      "900\n",
      "1000\n"
     ]
    }
   ],
   "source": [
    "rl = run_experiment(horde_info, env_info, exp_params[\"episodes\"], plot_freq = 100)"
   ]
  },
  {
   "cell_type": "code",
   "execution_count": 8,
   "metadata": {},
   "outputs": [
    {
     "ename": "ZeroDivisionError",
     "evalue": "division by zero",
     "output_type": "error",
     "traceback": [
      "\u001b[0;31m---------------------------------------------------------------------------\u001b[0m",
      "\u001b[0;31mZeroDivisionError\u001b[0m                         Traceback (most recent call last)",
      "\u001b[0;32m<ipython-input-8-c9d1fdf664bf>\u001b[0m in \u001b[0;36m<module>\u001b[0;34m\u001b[0m\n\u001b[1;32m      2\u001b[0m \u001b[0mtheta_1\u001b[0m \u001b[0;34m=\u001b[0m \u001b[0mrl\u001b[0m\u001b[0;34m.\u001b[0m\u001b[0mhorde\u001b[0m\u001b[0;34m.\u001b[0m\u001b[0mhorde_message\u001b[0m\u001b[0;34m(\u001b[0m\u001b[0;34m\"get theta values\"\u001b[0m\u001b[0;34m,\u001b[0m \u001b[0;36m1\u001b[0m\u001b[0;34m)\u001b[0m\u001b[0;34m\u001b[0m\u001b[0;34m\u001b[0m\u001b[0m\n\u001b[1;32m      3\u001b[0m \u001b[0mq1\u001b[0m \u001b[0;34m=\u001b[0m  \u001b[0mrl\u001b[0m\u001b[0;34m.\u001b[0m\u001b[0mhorde\u001b[0m\u001b[0;34m.\u001b[0m\u001b[0mhorde_message\u001b[0m\u001b[0;34m(\u001b[0m\u001b[0;34m\"get action values\"\u001b[0m\u001b[0;34m,\u001b[0m \u001b[0;36m1\u001b[0m\u001b[0;34m)\u001b[0m\u001b[0;34m\u001b[0m\u001b[0;34m\u001b[0m\u001b[0m\n\u001b[0;32m----> 4\u001b[0;31m \u001b[0mq_beta\u001b[0m \u001b[0;34m=\u001b[0m \u001b[0mrl\u001b[0m\u001b[0;34m.\u001b[0m\u001b[0mhorde\u001b[0m\u001b[0;34m.\u001b[0m\u001b[0mhorde_message\u001b[0m\u001b[0;34m(\u001b[0m\u001b[0;34m\"get beta values\"\u001b[0m\u001b[0;34m,\u001b[0m \u001b[0;36m1\u001b[0m\u001b[0;34m)\u001b[0m\u001b[0;34m\u001b[0m\u001b[0;34m\u001b[0m\u001b[0m\n\u001b[0m\u001b[1;32m      5\u001b[0m \u001b[0mv_beta\u001b[0m \u001b[0;34m=\u001b[0m \u001b[0mnp\u001b[0m\u001b[0;34m.\u001b[0m\u001b[0mmax\u001b[0m\u001b[0;34m(\u001b[0m\u001b[0mq_beta\u001b[0m\u001b[0;34m,\u001b[0m \u001b[0;34m-\u001b[0m\u001b[0;36m1\u001b[0m\u001b[0;34m)\u001b[0m\u001b[0;34m\u001b[0m\u001b[0;34m\u001b[0m\u001b[0m\n\u001b[1;32m      6\u001b[0m \u001b[0mpi\u001b[0m \u001b[0;34m=\u001b[0m \u001b[0mnp\u001b[0m\u001b[0;34m.\u001b[0m\u001b[0margmax\u001b[0m\u001b[0;34m(\u001b[0m\u001b[0mq_beta\u001b[0m\u001b[0;34m,\u001b[0m \u001b[0;34m-\u001b[0m\u001b[0;36m1\u001b[0m\u001b[0;34m)\u001b[0m\u001b[0;34m\u001b[0m\u001b[0;34m\u001b[0m\u001b[0m\n",
      "\u001b[0;32m~/Documents/Oxford/Courses/Trinity/Dissertation/Code/Toy experiments/Scripts/separateHorde/separateHorde.py\u001b[0m in \u001b[0;36mhorde_message\u001b[0;34m(self, message, index)\u001b[0m\n\u001b[1;32m    200\u001b[0m             \u001b[0mgvd\u001b[0m \u001b[0;34m=\u001b[0m \u001b[0mself\u001b[0m\u001b[0;34m.\u001b[0m\u001b[0mGVDs\u001b[0m\u001b[0;34m[\u001b[0m\u001b[0mindex\u001b[0m\u001b[0;34m]\u001b[0m\u001b[0;34m\u001b[0m\u001b[0;34m\u001b[0m\u001b[0m\n\u001b[1;32m    201\u001b[0m             \u001b[0mtheta\u001b[0m \u001b[0;34m=\u001b[0m \u001b[0mgvd\u001b[0m\u001b[0;34m.\u001b[0m\u001b[0mz\u001b[0m\u001b[0;34m.\u001b[0m\u001b[0mmodel\u001b[0m\u001b[0;34m(\u001b[0m\u001b[0mgvd\u001b[0m\u001b[0;34m.\u001b[0m\u001b[0mall_state_vectors\u001b[0m\u001b[0;34m)\u001b[0m\u001b[0;34m\u001b[0m\u001b[0;34m\u001b[0m\u001b[0m\n\u001b[0;32m--> 202\u001b[0;31m             \u001b[0mq_beta\u001b[0m \u001b[0;34m=\u001b[0m \u001b[0;36m1\u001b[0m\u001b[0;34m/\u001b[0m\u001b[0mgvd\u001b[0m\u001b[0;34m.\u001b[0m\u001b[0mbeta\u001b[0m \u001b[0;34m*\u001b[0m \u001b[0mnp\u001b[0m\u001b[0;34m.\u001b[0m\u001b[0mlog\u001b[0m\u001b[0;34m(\u001b[0m\u001b[0mnp\u001b[0m\u001b[0;34m.\u001b[0m\u001b[0mmean\u001b[0m\u001b[0;34m(\u001b[0m\u001b[0mnp\u001b[0m\u001b[0;34m.\u001b[0m\u001b[0mexp\u001b[0m\u001b[0;34m(\u001b[0m\u001b[0mtheta\u001b[0m\u001b[0;34m*\u001b[0m\u001b[0mgvd\u001b[0m\u001b[0;34m.\u001b[0m\u001b[0mbeta\u001b[0m\u001b[0;34m)\u001b[0m\u001b[0;34m,\u001b[0m \u001b[0;34m-\u001b[0m\u001b[0;36m1\u001b[0m\u001b[0;34m)\u001b[0m\u001b[0;34m)\u001b[0m\u001b[0;34m\u001b[0m\u001b[0;34m\u001b[0m\u001b[0m\n\u001b[0m\u001b[1;32m    203\u001b[0m             \u001b[0;32mreturn\u001b[0m \u001b[0mq_beta\u001b[0m\u001b[0;34m\u001b[0m\u001b[0;34m\u001b[0m\u001b[0m\n\u001b[1;32m    204\u001b[0m \u001b[0;34m\u001b[0m\u001b[0m\n",
      "\u001b[0;31mZeroDivisionError\u001b[0m: division by zero"
     ]
    }
   ],
   "source": [
    "tau = np.array(rl.horde.GVDs[0].z.tau)\n",
    "theta_1 = rl.horde.horde_message(\"get theta values\", 1)\n",
    "q1 =  rl.horde.horde_message(\"get action values\", 1)\n",
    "q_beta = rl.horde.horde_message(\"get beta values\", 1)\n",
    "v_beta = np.max(q_beta, -1)\n",
    "pi = np.argmax(q_beta, -1)\n",
    "pi = greedy_policy_gen(pi)"
   ]
  },
  {
   "cell_type": "code",
   "execution_count": null,
   "metadata": {},
   "outputs": [],
   "source": [
    "plot_q_values(q_beta)"
   ]
  },
  {
   "cell_type": "code",
   "execution_count": 9,
   "metadata": {},
   "outputs": [],
   "source": [
    "save_theta('results/control/gaussian/', GVD_1, exp_params, theta_1)"
   ]
  },
  {
   "cell_type": "code",
   "execution_count": 71,
   "metadata": {},
   "outputs": [
    {
     "data": {
      "text/plain": [
       "array([5.4473515, 5.5174155, 5.5298057, 5.5010195], dtype=float32)"
      ]
     },
     "execution_count": 71,
     "metadata": {},
     "output_type": "execute_result"
    }
   ],
   "source": [
    "q_beta[33]"
   ]
  },
  {
   "cell_type": "code",
   "execution_count": 7,
   "metadata": {},
   "outputs": [
    {
     "ename": "NameError",
     "evalue": "name 'v_beta' is not defined",
     "output_type": "error",
     "traceback": [
      "\u001b[0;31m---------------------------------------------------------------------------\u001b[0m",
      "\u001b[0;31mNameError\u001b[0m                                 Traceback (most recent call last)",
      "\u001b[0;32m<ipython-input-7-2f532e14967e>\u001b[0m in \u001b[0;36m<module>\u001b[0;34m\u001b[0m\n\u001b[0;32m----> 1\u001b[0;31m \u001b[0mvisualize\u001b[0m\u001b[0;34m(\u001b[0m\u001b[0mv_beta\u001b[0m\u001b[0;34m.\u001b[0m\u001b[0mreshape\u001b[0m\u001b[0;34m(\u001b[0m\u001b[0;36m6\u001b[0m\u001b[0;34m,\u001b[0m\u001b[0;36m10\u001b[0m\u001b[0;34m)\u001b[0m\u001b[0;34m,\u001b[0m \u001b[0mpi\u001b[0m\u001b[0;34m,\u001b[0m \u001b[0mepisode_num\u001b[0m \u001b[0;34m=\u001b[0m \u001b[0;36m500\u001b[0m\u001b[0;34m)\u001b[0m\u001b[0;34m\u001b[0m\u001b[0;34m\u001b[0m\u001b[0m\n\u001b[0m\u001b[1;32m      2\u001b[0m \u001b[0mplt\u001b[0m\u001b[0;34m.\u001b[0m\u001b[0msavefig\u001b[0m\u001b[0;34m(\u001b[0m\u001b[0;34m\"results/control/gaussian_vs_gaussian/off_line/vbeta_m3.eps\"\u001b[0m\u001b[0;34m,\u001b[0m \u001b[0mdpi\u001b[0m \u001b[0;34m=\u001b[0m \u001b[0;36m300\u001b[0m\u001b[0;34m)\u001b[0m\u001b[0;34m\u001b[0m\u001b[0;34m\u001b[0m\u001b[0m\n",
      "\u001b[0;31mNameError\u001b[0m: name 'v_beta' is not defined"
     ]
    }
   ],
   "source": [
    "visualize(v_beta.reshape(6,10), pi, episode_num = 500)\n",
    "plt.savefig(\"results/control/gaussian_vs_gaussian/off_line/vbeta_m3.png\")"
   ]
  },
  {
   "cell_type": "code",
   "execution_count": 12,
   "metadata": {},
   "outputs": [],
   "source": [
    "save_theta('results/control/gaussian_vs_gaussian/', GVD_1, exp_params, theta_1)"
   ]
  },
  {
   "cell_type": "code",
   "execution_count": 10,
   "metadata": {},
   "outputs": [
    {
     "data": {
      "image/png": "[encoded data removed]",
      "text/plain": [
       "<Figure size 576x432 with 1 Axes>"
      ]
     },
     "metadata": {
      "needs_background": "light"
     },
     "output_type": "display_data"
    }
   ],
   "source": [
    "plot_theta(theta_1, 47, 1)"
   ]
  },
  {
   "cell_type": "code",
   "execution_count": null,
   "metadata": {},
   "outputs": [],
   "source": [
    "tau = np.array(rl.horde.GVDs[0].z.tau)\n",
    "theta_2 = rl.horde.horde_message(\"get theta values\", 2)\n",
    "q2 =  rl.horde.horde_message(\"get action values\", 2)"
   ]
  },
  {
   "cell_type": "code",
   "execution_count": 46,
   "metadata": {},
   "outputs": [],
   "source": [
    "save_theta('results/evaluation/gaussian/policy_4', GVD_2, exp_params, theta_2)"
   ]
  },
  {
   "cell_type": "code",
   "execution_count": 12,
   "metadata": {},
   "outputs": [
    {
     "data": {
      "image/png": "[encoded data removed]",
      "text/plain": [
       "<Figure size 576x432 with 1 Axes>"
      ]
     },
     "metadata": {
      "needs_background": "light"
     },
     "output_type": "display_data"
    }
   ],
   "source": [
    "plot_theta(theta_1, 51, 1)"
   ]
  },
  {
   "cell_type": "code",
   "execution_count": 20,
   "metadata": {},
   "outputs": [],
   "source": [
    "## state visitation"
   ]
  },
  {
   "cell_type": "code",
   "execution_count": 6,
   "metadata": {},
   "outputs": [],
   "source": [
    "def run_experiment_with_state_visitation(filename, horde_info, env_info, exp_info):\n",
    "    num_runs = exp_info['num_runs']\n",
    "    num_episodes = exp_info['num_episodes']\n",
    "    current_time = datetime.datetime.now().strftime(\"%Y%m%d-%H%M%S\")\n",
    "    all_state_visits = []\n",
    "    run_steps_per_episode = np.zeros((num_runs, num_episodes))\n",
    "    for run in tqdm(range(num_runs)):\n",
    "        env = ToyEnvironment\n",
    "        horde = SeparateHorde\n",
    "        horde_info[\"seed\"] = run\n",
    "        random.seed(run)\n",
    "        np.random.seed(run)\n",
    "        tf.random.set_seed(run)\n",
    "        agent_info = horde_info[\"GVDs_info\"][0]\n",
    "        rl_glue = RLGlueHorde(env, horde)\n",
    "        rl_glue.rl_init(horde_info, env_info)\n",
    "        state_visits = np.zeros(60)\n",
    "        for episode in range(num_episodes):\n",
    "            # Runs an episode while keeping track of visited states\n",
    "            try :\n",
    "                state, action = rl_glue.rl_start()\n",
    "            except ValueError:\n",
    "                with open(\"rl_debug\", 'wb') as rl_debug:\n",
    "                    pickle.dump(rl_glue, rl_debug)\n",
    "            run_steps_per_episode[run, episode] += 1\n",
    "            if episode >= num_episodes - 10:\n",
    "                state_visits[state] += 1\n",
    "            is_terminal = False\n",
    "            while not is_terminal:\n",
    "                try :\n",
    "                    state, action, is_terminal = rl_glue.rl_step()\n",
    "                    run_steps_per_episode[run, episode] += 1\n",
    "                    if episode >= num_episodes - 10:\n",
    "                        state_visits[state] += 1\n",
    "                except ValueError:\n",
    "                    with open(\"rl_debug\", 'wb') as rl_debug:\n",
    "                        pickle.dump(rl_glue, rl_debug)\n",
    "        theta = rl_glue.horde.horde_message(\"get theta values\", 1)\n",
    "        all_state_visits.append(state_visits)\n",
    "        save_theta(os.path.join(filename + current_time), agent_info, exp_info, theta)\n",
    "    \n",
    "    save_name = \"runs_{}_episodes_{}\".format(num_runs, num_episodes)\n",
    "                \n",
    "    if not os.path.exists(filename + current_time):\n",
    "        os.makedirs(filename + current_time)\n",
    "    np.save(os.path.join(filename + current_time, \"all_state_visits_{}\".format(save_name)), all_state_visits)\n",
    "    np.save(os.path.join(filename + current_time, \"run_steps_per_episode_{}\".format(save_name)), run_steps_per_episode)"
   ]
  },
  {
   "cell_type": "code",
   "execution_count": 75,
   "metadata": {},
   "outputs": [],
   "source": [
    "policy = np.ones(shape=(6 * 10, 4)) * 0.25\n",
    "seed = 23\n",
    "np.random.seed(seed)\n",
    "random.seed(seed)\n",
    "tf.random.set_seed(seed)\n",
    "policy_4 = np.load(\"policy_4.npy\")\n",
    "policy_5 = np.load(\"policy_5.npy\")\n",
    "policy_6 = np.load(\"policy_6.npy\")\n",
    "file_path = 'results/monte_carlo/gaussian_policy5_returns_on_policy_ep_1000'\n",
    "\n",
    "# average loss only\n",
    "GVD_1 = {\n",
    "    \"control\": True,\n",
    "    \"transition_gen\" : gaussian_vs_gaussian,\n",
    "    \"num_quantiles\" : 51,\n",
    "    \"beta\" : -3,\n",
    "    \"replay_freq\" : 5,\n",
    "    \"update_freq\" : 500,\n",
    "    \"lr_scheduler\" : True,\n",
    "    \"batch_size\" : 32,\n",
    "    \"adam_epsilon\" : 0.01/32,\n",
    "    \"eta\" : 0.0005,\n",
    "    \"transition_gen_params\" : {}}\n",
    "\n",
    "\n",
    "horde_info = {\n",
    "    \"GVDs_info\" : [GVD_1],\n",
    "    \"policy\" : policy,\n",
    "    \"on_policy\" : True,\n",
    "    \"on_policy_GVD\" : 1,\n",
    "    \"epsilon_greedy\" : True,\n",
    "    \"epsilon\" : 1\n",
    "}\n",
    "\n",
    "env_info = {\n",
    "    \"end_states\" : [[2,4], [4,6]]}\n",
    "\n",
    "exp_info = {\n",
    "    \"num_episodes\" : 500,\n",
    "    \"num_runs\" : 10,\n",
    "}"
   ]
  },
  {
   "cell_type": "code",
   "execution_count": 2,
   "metadata": {},
   "outputs": [],
   "source": [
    "filename = 'results/control/gaussian_vs_gaussian/'"
   ]
  },
  {
   "cell_type": "code",
   "execution_count": 77,
   "metadata": {},
   "outputs": [
    {
     "name": "stderr",
     "output_type": "stream",
     "text": [
      "\n",
      "  0%|          | 0/10 [00:00<?, ?it/s]\u001b[A\n",
      " 10%|█         | 1/10 [01:27<13:09, 87.75s/it]\u001b[A\n",
      " 20%|██        | 2/10 [02:55<11:43, 87.88s/it]\u001b[A\n",
      " 30%|███       | 3/10 [05:00<11:31, 98.85s/it]\u001b[A\n",
      " 40%|████      | 4/10 [06:39<09:54, 99.00s/it]\u001b[A\n",
      " 50%|█████     | 5/10 [09:05<09:25, 113.11s/it]\u001b[A\n",
      " 60%|██████    | 6/10 [10:57<07:31, 112.82s/it]\u001b[A\n",
      " 70%|███████   | 7/10 [12:53<05:40, 113.59s/it]\u001b[A\n",
      " 80%|████████  | 8/10 [15:12<04:02, 121.41s/it]\u001b[A\n",
      " 90%|█████████ | 9/10 [17:07<01:59, 119.42s/it]\u001b[A\n",
      "100%|██████████| 10/10 [18:14<00:00, 109.46s/it]\u001b[A\n"
     ]
    }
   ],
   "source": [
    "run_experiment_with_state_visitation(filename, horde_info, env_info, exp_info)"
   ]
  },
  {
   "cell_type": "code",
   "execution_count": 22,
   "metadata": {},
   "outputs": [],
   "source": [
    "path = filename + '20200904-085634'"
   ]
  },
  {
   "cell_type": "code",
   "execution_count": 23,
   "metadata": {},
   "outputs": [],
   "source": [
    "state_visits = np.load(os.path.join(path, 'all_state_visits_runs_10_episodes_500.npy'))\n",
    "mean_visits = np.mean(state_visits, 0)"
   ]
  },
  {
   "cell_type": "code",
   "execution_count": 24,
   "metadata": {},
   "outputs": [
    {
     "data": {
      "text/plain": [
       "<matplotlib.axes._subplots.AxesSubplot at 0x7faf9cf915d0>"
      ]
     },
     "execution_count": 24,
     "metadata": {},
     "output_type": "execute_result"
    },
    {
     "data": {
      "image/png": "[encoded data removed]",
      "text/plain": [
       "<Figure size 432x288 with 2 Axes>"
      ]
     },
     "metadata": {
      "needs_background": "light"
     },
     "output_type": "display_data"
    }
   ],
   "source": [
    "sns.heatmap(mean_visits.reshape(6,10))"
   ]
  },
  {
   "cell_type": "code",
   "execution_count": 11,
   "metadata": {},
   "outputs": [
    {
     "data": {
      "image/png": "[encoded data removed]",
      "text/plain": [
       "<Figure size 432x288 with 2 Axes>"
      ]
     },
     "metadata": {
      "needs_background": "light"
     },
     "output_type": "display_data"
    }
   ],
   "source": [
    "sns.heatmap(mean_visits.reshape(6,10), cmap = \"viridis\")\n",
    "plt.savefig(path + '/state_visitation.png', dpi = 300)"
   ]
  },
  {
   "cell_type": "code",
   "execution_count": 25,
   "metadata": {},
   "outputs": [],
   "source": [
    "run_steps = np.load(os.path.join(path, \"run_steps_per_episode_runs_10_episodes_500.npy\"))"
   ]
  },
  {
   "cell_type": "code",
   "execution_count": 26,
   "metadata": {},
   "outputs": [
    {
     "data": {
      "image/png": "[encoded data removed]",
      "text/plain": [
       "<Figure size 432x288 with 1 Axes>"
      ]
     },
     "metadata": {
      "needs_background": "light"
     },
     "output_type": "display_data"
    }
   ],
   "source": [
    "plt.plot(run_steps.mean(0))\n",
    "plt.xlabel('episodes')\n",
    "plt.ylabel('steps')\n",
    "plt.savefig(path + '/run_steps.png', dpi = 300)"
   ]
  },
  {
   "cell_type": "code",
   "execution_count": null,
   "metadata": {},
   "outputs": [],
   "source": []
  },
  {
   "cell_type": "code",
   "execution_count": null,
   "metadata": {},
   "outputs": [],
   "source": []
  }
 ],
 "metadata": {
  "kernelspec": {
   "display_name": "Python 3",
   "language": "python",
   "name": "python3"
  },
  "language_info": {
   "codemirror_mode": {
    "name": "ipython",
    "version": 3
   },
   "file_extension": ".py",
   "mimetype": "text/x-python",
   "name": "python",
   "nbconvert_exporter": "python",
   "pygments_lexer": "ipython3",
   "version": "3.7.6"
  }
 },
 "nbformat": 4,
 "nbformat_minor": 4
}
