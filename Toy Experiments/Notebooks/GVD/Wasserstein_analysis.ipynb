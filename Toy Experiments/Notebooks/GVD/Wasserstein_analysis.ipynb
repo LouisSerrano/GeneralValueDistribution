{
 "cells": [
  {
   "cell_type": "code",
   "execution_count": 28,
   "metadata": {},
   "outputs": [],
   "source": [
    "import numpy as np\n",
    "import matplotlib.pyplot as plt\n",
    "import os, time, shutil\n",
    "from tqdm import tqdm\n",
    "import seaborn as sns\n",
    "import datetime\n",
    "import pickle\n",
    "import scipy.stats as st\n",
    "import tensorflow as tf\n",
    "import pandas as pd\n",
    "import random\n",
    "from collections import deque\n",
    "import random\n",
    "\n",
    "path = '/Users/louisserrano/Documents/Oxford/Courses/Trinity/Dissertation/Code/Toy Experiments/'\n",
    "os.chdir(path)\n",
    "\n",
    "from Scripts.rl_glue_horde import RLGlueHorde\n",
    "from Scripts.toy_env_horde import ToyEnvironment\n",
    "from Scripts.separateHorde.separateHorde import SeparateHorde\n",
    "from Scripts.utils import bernouilli_cumulant, gaussian_cumulant, wall_detector_cumulant, gvd_based_cumulant, ReplayBuffer\n",
    "from Scripts.utils import plot_q_values, plot_theta\n",
    "\n",
    "path = '/Users/louisserrano/Documents/Oxford/Courses/Trinity/Dissertation/Code/Toy Experiments/Notebooks/GVD'\n",
    "os.chdir(path)"
   ]
  },
  {
   "cell_type": "code",
   "execution_count": 26,
   "metadata": {},
   "outputs": [],
   "source": [
    "list_ = os.listdir(\"results/evaluation/gaussian/policy_5/\")"
   ]
  },
  {
   "cell_type": "code",
   "execution_count": 27,
   "metadata": {},
   "outputs": [],
   "source": [
    "df = pd.read_csv(\"results/monte_carlo/gaussian_policy5_returns_on_policy_ep_1000\")"
   ]
  },
  {
   "cell_type": "code",
   "execution_count": 28,
   "metadata": {},
   "outputs": [],
   "source": [
    "def get_returns(dataframe, last_state, last_action):\n",
    "    mask = (dataframe[\"last_state\"] == last_state)&(dataframe[\"last_action\"] == last_action)\n",
    "    return np.array(dataframe.loc[mask, \"return\"])"
   ]
  },
  {
   "cell_type": "code",
   "execution_count": 29,
   "metadata": {},
   "outputs": [],
   "source": [
    "def get_wasserstein(df, theta, track_list):\n",
    "    for j in range(len(track_list)):\n",
    "        last_s, last_a = track_list[j]\n",
    "        mc_returns = get_returns(df, last_s, last_a)\n",
    "        w = st.wasserstein_distance(mc_returns, theta[last_s, last_a])\n",
    "        print(\"last_state: {}, last_action: {}, wasserstein: {}\".format(last_s, last_a, w))"
   ]
  },
  {
   "cell_type": "code",
   "execution_count": 30,
   "metadata": {},
   "outputs": [],
   "source": [
    "track_list = [[23,1], [33,0], [43,0], [51,1], [50,1]]"
   ]
  },
  {
   "cell_type": "code",
   "execution_count": 35,
   "metadata": {},
   "outputs": [
    {
     "data": {
      "text/plain": [
       "['20200828-085640',\n",
       " '20200828-093023',\n",
       " '20200828-102012',\n",
       " '20200828-102432',\n",
       " '20200828-111035',\n",
       " '20200828-113408',\n",
       " '20200831-131809',\n",
       " '20200831-151904',\n",
       " '20200831-174843',\n",
       " '20200831-181719',\n",
       " '20200831-192613',\n",
       " '20200901-003219',\n",
       " '20200901-030745',\n",
       " '20200901-144208',\n",
       " '20200901-144216']"
      ]
     },
     "execution_count": 35,
     "metadata": {},
     "output_type": "execute_result"
    }
   ],
   "source": [
    "sorted(list_)"
   ]
  },
  {
   "cell_type": "code",
   "execution_count": 38,
   "metadata": {},
   "outputs": [
    {
     "name": "stdout",
     "output_type": "stream",
     "text": [
      "20200828-085640\n",
      "last_state: 23, last_action: 1, wasserstein: 0.2765929354042019\n",
      "last_state: 33, last_action: 0, wasserstein: 1.9477193445403813\n",
      "last_state: 43, last_action: 0, wasserstein: 1.9401112385263128\n",
      "last_state: 51, last_action: 1, wasserstein: 1.2112272095344823\n",
      "last_state: 50, last_action: 1, wasserstein: 0.9176890975187417\n",
      "20200828-093023\n",
      "last_state: 23, last_action: 1, wasserstein: 0.4319490785600455\n",
      "last_state: 33, last_action: 0, wasserstein: 1.8942524416177966\n",
      "last_state: 43, last_action: 0, wasserstein: 1.6590171517413603\n",
      "last_state: 51, last_action: 1, wasserstein: 1.2476818911658345\n",
      "last_state: 50, last_action: 1, wasserstein: 0.936938585854527\n",
      "20200828-102012\n",
      "last_state: 23, last_action: 1, wasserstein: 0.28617222081706084\n",
      "last_state: 33, last_action: 0, wasserstein: 1.8296214280859073\n",
      "last_state: 43, last_action: 0, wasserstein: 1.7266760693550474\n",
      "last_state: 51, last_action: 1, wasserstein: 1.3085294726485572\n",
      "last_state: 50, last_action: 1, wasserstein: 0.9935727445443246\n",
      "20200828-102432\n",
      "last_state: 23, last_action: 1, wasserstein: 0.43395761837969116\n",
      "last_state: 33, last_action: 0, wasserstein: 2.9763225584110007\n",
      "last_state: 43, last_action: 0, wasserstein: 2.4680323868198375\n",
      "last_state: 51, last_action: 1, wasserstein: 1.406653451465508\n",
      "last_state: 50, last_action: 1, wasserstein: 1.1752488592534145\n",
      "20200828-111035\n",
      "last_state: 23, last_action: 1, wasserstein: 0.35022235372204147\n",
      "last_state: 33, last_action: 0, wasserstein: 1.889982001380937\n",
      "last_state: 43, last_action: 0, wasserstein: 1.7386599768369693\n",
      "last_state: 51, last_action: 1, wasserstein: 1.2908295154384246\n",
      "last_state: 50, last_action: 1, wasserstein: 0.9941590380112564\n",
      "20200828-113408\n",
      "last_state: 23, last_action: 1, wasserstein: 0.33971131192702964\n",
      "last_state: 33, last_action: 0, wasserstein: 1.8395020479860449\n",
      "last_state: 43, last_action: 0, wasserstein: 1.6114348789496118\n",
      "last_state: 51, last_action: 1, wasserstein: 1.2019332665537097\n",
      "last_state: 50, last_action: 1, wasserstein: 0.8985830975078665\n",
      "20200831-131809\n",
      "last_state: 23, last_action: 1, wasserstein: 0.23539847718844908\n",
      "last_state: 33, last_action: 0, wasserstein: 1.3715526899816135\n",
      "last_state: 43, last_action: 0, wasserstein: 1.6074143176440459\n",
      "last_state: 51, last_action: 1, wasserstein: 1.2995995244431546\n",
      "last_state: 50, last_action: 1, wasserstein: 1.0204978389682948\n",
      "20200831-151904\n",
      "last_state: 23, last_action: 1, wasserstein: 0.46521295114840777\n",
      "last_state: 33, last_action: 0, wasserstein: 1.7509179752558734\n",
      "last_state: 43, last_action: 0, wasserstein: 1.6831763380502243\n",
      "last_state: 51, last_action: 1, wasserstein: 1.359803548801969\n",
      "last_state: 50, last_action: 1, wasserstein: 1.095767985912403\n",
      "20200831-174843\n",
      "last_state: 23, last_action: 1, wasserstein: 0.29306928649400976\n",
      "last_state: 33, last_action: 0, wasserstein: 1.7319669428481603\n",
      "last_state: 43, last_action: 0, wasserstein: 1.3772727115379266\n",
      "last_state: 51, last_action: 1, wasserstein: 0.8233297937529539\n",
      "last_state: 50, last_action: 1, wasserstein: 0.5566999058780592\n",
      "20200831-181719\n",
      "last_state: 23, last_action: 1, wasserstein: 0.2842418580762908\n",
      "last_state: 33, last_action: 0, wasserstein: 1.753346598654086\n",
      "last_state: 43, last_action: 0, wasserstein: 1.4850034988499208\n",
      "last_state: 51, last_action: 1, wasserstein: 1.0617973745978393\n",
      "last_state: 50, last_action: 1, wasserstein: 0.7586808098618255\n",
      "20200831-192613\n",
      "last_state: 23, last_action: 1, wasserstein: 0.3746346196157202\n",
      "last_state: 33, last_action: 0, wasserstein: 1.8072693831611026\n",
      "last_state: 43, last_action: 0, wasserstein: 1.4648711834514168\n",
      "last_state: 51, last_action: 1, wasserstein: 0.9158752144977005\n",
      "last_state: 50, last_action: 1, wasserstein: 0.654908164389622\n",
      "20200901-003219\n",
      "last_state: 23, last_action: 1, wasserstein: 0.4823067620269728\n",
      "last_state: 33, last_action: 0, wasserstein: 1.9148524344859645\n",
      "last_state: 43, last_action: 0, wasserstein: 1.7510750594647502\n",
      "last_state: 51, last_action: 1, wasserstein: 1.2361745360474772\n",
      "last_state: 50, last_action: 1, wasserstein: 0.9378947575997983\n",
      "20200901-030745\n",
      "last_state: 23, last_action: 1, wasserstein: 0.39493633883685775\n",
      "last_state: 33, last_action: 0, wasserstein: 1.398597736714981\n",
      "last_state: 43, last_action: 0, wasserstein: 1.6390623963533102\n",
      "last_state: 51, last_action: 1, wasserstein: 1.3240831328501874\n",
      "last_state: 50, last_action: 1, wasserstein: 1.0317092918498587\n",
      "20200901-144208\n",
      "last_state: 23, last_action: 1, wasserstein: 0.25935173988177757\n",
      "last_state: 33, last_action: 0, wasserstein: 1.9635396849142563\n",
      "last_state: 43, last_action: 0, wasserstein: 1.8838204344460743\n",
      "last_state: 51, last_action: 1, wasserstein: 1.3031748355246129\n",
      "last_state: 50, last_action: 1, wasserstein: 1.0047295547359303\n",
      "20200901-144216\n",
      "last_state: 23, last_action: 1, wasserstein: 0.3546146259406344\n",
      "last_state: 33, last_action: 0, wasserstein: 3.148984563870017\n",
      "last_state: 43, last_action: 0, wasserstein: 2.4845962736461615\n",
      "last_state: 51, last_action: 1, wasserstein: 1.5480577474129338\n",
      "last_state: 50, last_action: 1, wasserstein: 1.404461999174683\n"
     ]
    }
   ],
   "source": [
    "path_ = \"results/evaluation/gaussian/policy_5/\"\n",
    "for date in sorted(list_):\n",
    "    path = os.path.join(path_, date, \"theta.npy\") \n",
    "    theta = np.load(path)\n",
    "    print(date)\n",
    "    get_wasserstein(df, theta, track_list)"
   ]
  },
  {
   "cell_type": "code",
   "execution_count": 40,
   "metadata": {},
   "outputs": [],
   "source": [
    "date = '20200901-144208'\n",
    "path = os.path.join(path_, date, \"theta.npy\") \n",
    "theta = np.load(path)"
   ]
  },
  {
   "cell_type": "code",
   "execution_count": 44,
   "metadata": {},
   "outputs": [],
   "source": [
    "def plot_theta_ref(theta, df, s, a, filename = None):\n",
    "    t = theta[s, a]\n",
    "    r = get_returns(df, s, a)\n",
    "    n = t.shape[0]\n",
    "    tau = (2 * np.arange(n) + 1) / (2.0 * n)\n",
    "    cdf = np.quantile(r, tau)\n",
    "\n",
    "    plt.figure(figsize = (8,6))\n",
    "    plt.plot(t, tau, marker = 'o', linestyle = \"--\")\n",
    "    plt.plot(cdf, tau)\n",
    "    plt.title(\"state : {}, action : {}\".format(s,a))\n",
    "    plt.ylabel(\"quantile levels \" r'$\\tau$')\n",
    "    plt.xlabel(\"$F^{-1}$(\"r'$\\tau$'\")\")\n",
    "    if filename is not None:\n",
    "        plt.savefig(filename)"
   ]
  },
  {
   "cell_type": "code",
   "execution_count": 51,
   "metadata": {},
   "outputs": [
    {
     "data": {
      "image/png": "[encoded data removed]",
      "text/plain": [
       "<Figure size 576x432 with 1 Axes>"
      ]
     },
     "metadata": {
      "needs_background": "light"
     },
     "output_type": "display_data"
    }
   ],
   "source": [
    "plot_theta_ref(theta, df, 22, 1)"
   ]
  },
  {
   "cell_type": "code",
   "execution_count": 44,
   "metadata": {},
   "outputs": [
    {
     "name": "stdout",
     "output_type": "stream",
     "text": [
      "0.008260965347290039\n"
     ]
    }
   ],
   "source": [
    "start = time.time()\n",
    "tt.append(get_returns(df, 23, 1))\n",
    "end = time.time()\n",
    "print( end - start)"
   ]
  },
  {
   "cell_type": "code",
   "execution_count": 42,
   "metadata": {},
   "outputs": [
    {
     "name": "stdout",
     "output_type": "stream",
     "text": [
      "6.890296936035156e-05\n"
     ]
    }
   ],
   "source": [
    "tt[0]\n",
    "start = time.time()\n",
    "tt[0]\n",
    "end = time.time()\n",
    "print( end - start)"
   ]
  },
  {
   "cell_type": "code",
   "execution_count": 60,
   "metadata": {},
   "outputs": [],
   "source": [
    "path_ = \"results/evaluation/gaussian/policy_6/\"\n",
    "date = '20200901-111529'\n",
    "path = os.path.join(path_, date, \"theta.npy\") \n",
    "theta = np.load(path)\n",
    "df = pd.read_csv(\"results/monte_carlo/gaussian_policy6_returns_on_policy_ep_1000\")"
   ]
  },
  {
   "cell_type": "code",
   "execution_count": 62,
   "metadata": {},
   "outputs": [
    {
     "data": {
      "image/png": "[encoded data removed]",
      "text/plain": [
       "<Figure size 576x432 with 1 Axes>"
      ]
     },
     "metadata": {
      "needs_background": "light"
     },
     "output_type": "display_data"
    }
   ],
   "source": [
    "plot_theta_ref(theta, df, 33, 0)"
   ]
  },
  {
   "cell_type": "code",
   "execution_count": 67,
   "metadata": {},
   "outputs": [
    {
     "data": {
      "image/png": "[encoded data removed]",
      "text/plain": [
       "<Figure size 576x432 with 1 Axes>"
      ]
     },
     "metadata": {
      "needs_background": "light"
     },
     "output_type": "display_data"
    }
   ],
   "source": [
    "plot_theta_ref(theta, df, 53, 0)"
   ]
  },
  {
   "cell_type": "code",
   "execution_count": 70,
   "metadata": {},
   "outputs": [],
   "source": [
    "path_ = \"results/evaluation/gaussian/policy_4/\"\n",
    "date = '20200901-160157'\n",
    "path = os.path.join(path_, date, \"theta.npy\") \n",
    "theta = np.load(path)\n",
    "df = pd.read_csv(\"results/monte_carlo/gaussian_policy4_returns_on_policy_ep_1000\")"
   ]
  },
  {
   "cell_type": "code",
   "execution_count": 74,
   "metadata": {},
   "outputs": [
    {
     "data": {
      "image/png": "[encoded data removed]",
      "text/plain": [
       "<Figure size 576x432 with 1 Axes>"
      ]
     },
     "metadata": {
      "needs_background": "light"
     },
     "output_type": "display_data"
    }
   ],
   "source": [
    "plot_theta_ref(theta, df, 51, 1)"
   ]
  },
  {
   "cell_type": "code",
   "execution_count": 79,
   "metadata": {},
   "outputs": [
    {
     "data": {
      "text/plain": [
       "(32, 255)"
      ]
     },
     "execution_count": 79,
     "metadata": {},
     "output_type": "execute_result"
    }
   ],
   "source": [
    "np.tile(z, 51).shape"
   ]
  },
  {
   "cell_type": "code",
   "execution_count": 98,
   "metadata": {},
   "outputs": [],
   "source": [
    "t = theta[32]"
   ]
  },
  {
   "cell_type": "code",
   "execution_count": 93,
   "metadata": {},
   "outputs": [],
   "source": [
    "tt = np.tile(z, 51)"
   ]
  },
  {
   "cell_type": "code",
   "execution_count": 94,
   "metadata": {},
   "outputs": [
    {
     "ename": "ValueError",
     "evalue": "operands could not be broadcast together with shapes (4,51) (2601,) ",
     "output_type": "error",
     "traceback": [
      "\u001b[0;31m---------------------------------------------------------------------------\u001b[0m",
      "\u001b[0;31mValueError\u001b[0m                                Traceback (most recent call last)",
      "\u001b[0;32m<ipython-input-94-1864facd61a5>\u001b[0m in \u001b[0;36m<module>\u001b[0;34m\u001b[0m\n\u001b[0;32m----> 1\u001b[0;31m \u001b[0mtheta\u001b[0m\u001b[0;34m[\u001b[0m\u001b[0;36m32\u001b[0m\u001b[0;34m]\u001b[0m \u001b[0;34m-\u001b[0m \u001b[0mtt\u001b[0m\u001b[0;34m\u001b[0m\u001b[0;34m\u001b[0m\u001b[0m\n\u001b[0m",
      "\u001b[0;31mValueError\u001b[0m: operands could not be broadcast together with shapes (4,51) (2601,) "
     ]
    }
   ],
   "source": [
    "theta[32] - tt"
   ]
  },
  {
   "cell_type": "code",
   "execution_count": 102,
   "metadata": {},
   "outputs": [
    {
     "data": {
      "text/plain": [
       "(204,)"
      ]
     },
     "execution_count": 102,
     "metadata": {},
     "output_type": "execute_result"
    }
   ],
   "source": [
    "np.tile(t[:,-1], 51).shape"
   ]
  },
  {
   "cell_type": "code",
   "execution_count": 105,
   "metadata": {},
   "outputs": [
    {
     "data": {
      "text/plain": [
       "array([[-9.371041 , -8.856297 , -8.565218 , -8.27357  , -8.022372 ,\n",
       "        -7.9162183, -7.7779083, -7.5941195, -7.517943 , -7.409661 ,\n",
       "        -7.291177 , -7.1772094, -7.0803623, -7.043883 , -6.9925275,\n",
       "        -6.912029 , -6.8818593, -6.755385 , -6.698119 , -6.6381145,\n",
       "        -6.52782  , -6.4845324, -6.446806 , -6.262498 , -6.2204113,\n",
       "        -6.1959424, -6.110373 , -6.040608 , -5.9418535, -5.88898  ,\n",
       "        -5.808948 , -5.7368345, -5.6008544, -5.546366 , -5.431041 ,\n",
       "        -5.331299 , -5.192506 , -4.9821463, -4.953626 , -4.723239 ,\n",
       "        -4.704652 , -4.5255604, -4.3320866, -4.173087 , -3.9870844,\n",
       "        -3.736926 , -3.462326 , -3.1167326, -2.6699219, -1.8422089,\n",
       "         0.       ],\n",
       "       [-9.216419 , -8.548064 , -8.058203 , -7.9039173, -7.5832987,\n",
       "        -7.3371954, -7.2745605, -7.1754026, -6.9780045, -6.8794036,\n",
       "        -6.7151947, -6.6191044, -6.55455  , -6.402154 , -6.374467 ,\n",
       "        -6.299795 , -6.258876 , -6.2505198, -6.0458984, -6.0882845,\n",
       "        -5.967268 , -5.925682 , -5.9107485, -5.791628 , -5.775034 ,\n",
       "        -5.7730274, -5.6578074, -5.6852903, -5.5473747, -5.52853  ,\n",
       "        -5.4765377, -5.3876944, -5.3697147, -5.315111 , -5.276203 ,\n",
       "        -5.197625 , -5.1862106, -5.1302996, -5.0352983, -4.987727 ,\n",
       "        -4.930855 , -4.863325 , -4.762642 , -4.669628 , -4.4808645,\n",
       "        -4.27118  , -3.9852858, -3.6552649, -3.1875372, -2.324604 ,\n",
       "         0.       ],\n",
       "       [-7.074951 , -6.6006155, -6.2875905, -6.0706606, -5.9391375,\n",
       "        -5.8269777, -5.6722684, -5.643643 , -5.4653544, -5.3992887,\n",
       "        -5.3849697, -5.2501945, -5.200914 , -5.093245 , -5.0482564,\n",
       "        -5.050401 , -5.0529456, -4.924779 , -4.9148693, -4.8151226,\n",
       "        -4.813167 , -4.694288 , -4.783747 , -4.678112 , -4.619273 ,\n",
       "        -4.548204 , -4.568615 , -4.51139  , -4.4645467, -4.4143624,\n",
       "        -4.3962255, -4.357699 , -4.278281 , -4.1704316, -4.089812 ,\n",
       "        -4.1891923, -4.130749 , -3.9599547, -3.9274855, -3.8932338,\n",
       "        -3.8582373, -3.7199917, -3.691598 , -3.6301575, -3.4862213,\n",
       "        -3.350439 , -3.194644 , -2.9621668, -2.6146212, -1.8887291,\n",
       "         0.       ],\n",
       "       [-8.441979 , -7.8362904, -7.4203577, -7.1408305, -6.921301 ,\n",
       "        -6.632155 , -6.489716 , -6.396247 , -6.235506 , -6.117388 ,\n",
       "        -5.985786 , -5.934312 , -5.757127 , -5.801342 , -5.60476  ,\n",
       "        -5.676485 , -5.527504 , -5.4733934, -5.4066496, -5.3715262,\n",
       "        -5.3128448, -5.1842957, -5.2041535, -5.179729 , -5.070994 ,\n",
       "        -5.02396  , -4.959176 , -4.9517603, -4.9126215, -4.787791 ,\n",
       "        -4.679827 , -4.728926 , -4.691362 , -4.6332507, -4.604518 ,\n",
       "        -4.4523315, -4.398491 , -4.4114285, -4.2384377, -4.27783  ,\n",
       "        -4.1018353, -3.9533577, -3.930007 , -3.7922993, -3.6162205,\n",
       "        -3.4808512, -3.209609 , -3.0131369, -2.580289 , -1.7827387,\n",
       "         0.       ]], dtype=float32)"
      ]
     },
     "execution_count": 105,
     "metadata": {},
     "output_type": "execute_result"
    }
   ],
   "source": [
    "t - np.tile(np.reshape(t[:,-1], (-1,1)), 51)"
   ]
  },
  {
   "cell_type": "code",
   "execution_count": 42,
   "metadata": {},
   "outputs": [
    {
     "data": {
      "text/plain": [
       "[<matplotlib.lines.Line2D at 0x7fcb14c1cc50>]"
      ]
     },
     "execution_count": 42,
     "metadata": {},
     "output_type": "execute_result"
    },
    {
     "data": {
      "image/png": "[encoded data removed]",
      "text/plain": [
       "<Figure size 432x288 with 1 Axes>"
      ]
     },
     "metadata": {
      "needs_background": "light"
     },
     "output_type": "display_data"
    }
   ],
   "source": [
    "x = np.arange(500)//25\n",
    "plt.plot(1/(1+np.sqrt(x)))"
   ]
  },
  {
   "cell_type": "code",
   "execution_count": 4,
   "metadata": {},
   "outputs": [],
   "source": [
    "import numpy as np"
   ]
  },
  {
   "cell_type": "code",
   "execution_count": 9,
   "metadata": {},
   "outputs": [],
   "source": [
    "import tensorflow as tf"
   ]
  },
  {
   "cell_type": "code",
   "execution_count": 18,
   "metadata": {},
   "outputs": [],
   "source": [
    "v = np.random.normal(size = 60).reshape(1, -1)"
   ]
  },
  {
   "cell_type": "code",
   "execution_count": 43,
   "metadata": {},
   "outputs": [
    {
     "data": {
      "text/plain": [
       "0.18660549686337075"
      ]
     },
     "execution_count": 43,
     "metadata": {},
     "output_type": "execute_result"
    }
   ],
   "source": [
    "1/(1+np.sqrt(x[-1]))"
   ]
  },
  {
   "cell_type": "code",
   "execution_count": null,
   "metadata": {},
   "outputs": [],
   "source": []
  }
 ],
 "metadata": {
  "kernelspec": {
   "display_name": "Python 3",
   "language": "python",
   "name": "python3"
  },
  "language_info": {
   "codemirror_mode": {
    "name": "ipython",
    "version": 3
   },
   "file_extension": ".py",
   "mimetype": "text/x-python",
   "name": "python",
   "nbconvert_exporter": "python",
   "pygments_lexer": "ipython3",
   "version": "3.7.6"
  }
 },
 "nbformat": 4,
 "nbformat_minor": 4
}
