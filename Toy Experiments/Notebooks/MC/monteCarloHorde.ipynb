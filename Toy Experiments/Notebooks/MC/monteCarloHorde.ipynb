{
 "cells": [
  {
   "cell_type": "code",
   "execution_count": 25,
   "metadata": {},
   "outputs": [],
   "source": [
    "import numpy as np\n",
    "import matplotlib.pyplot as plt\n",
    "import os, jdc, shutil\n",
    "from tqdm import tqdm\n",
    "import seaborn as sns\n",
    "import scipy.stats as st\n",
    "import tensorflow as tf\n",
    "import pandas as pd\n",
    "import random\n",
    "from collections import deque\n",
    "import random\n",
    "\n",
    "path = '/Users/louisserrano/Documents/Oxford/Courses/Trinity/Dissertation/Code/Toy Experiments/'\n",
    "os.chdir(path)\n",
    "\n",
    "from Scripts.rl_glue_horde import RLGlueHorde\n",
    "from Scripts.toy_env_horde import ToyEnvironment\n",
    "from Scripts.MC.monteCarloHorde import MonteCarloHorde\n",
    "from Scripts.utils import bernouilli_cumulant, gaussian_cumulant, wall_detector_cumulant, gvd_based_cumulant, ReplayBuffer\n",
    "from Scripts.utils import plot_q_values\n",
    "\n",
    "path = '/Users/louisserrano/Documents/Oxford/Courses/Trinity/Dissertation/Code/Toy Experiments/Notebooks/GVD'\n",
    "os.chdir(path)"
   ]
  },
  {
   "cell_type": "code",
   "execution_count": 26,
   "metadata": {},
   "outputs": [],
   "source": [
    "def run_experiment(horde_info, env_info, num_episodes = 1,\n",
    "                   step_limit = 0,\n",
    "                   plot_freq = 10,\n",
    "                   value_error_threshold=1e-8):\n",
    "    \n",
    "    env = ToyEnvironment\n",
    "    horde = MonteCarloHorde\n",
    "    rl_glue = RLGlueHorde(env, horde)\n",
    "    rl_glue.rl_init(horde_info, env_info)\n",
    "\n",
    "    for episode in range(1, num_episodes + 1):\n",
    "        rl_glue.rl_episode(step_limit) # no step limit\n",
    "        if episode%plot_freq == 0:\n",
    "            print(episode)\n",
    "    \n",
    "    return rl_glue"
   ]
  },
  {
   "cell_type": "code",
   "execution_count": 27,
   "metadata": {},
   "outputs": [],
   "source": [
    "#np.save(\"policy_2\", policy_2)"
   ]
  },
  {
   "cell_type": "code",
   "execution_count": 28,
   "metadata": {},
   "outputs": [],
   "source": [
    "#np.save(\"policy_4\", policy_4)"
   ]
  },
  {
   "cell_type": "code",
   "execution_count": 29,
   "metadata": {},
   "outputs": [],
   "source": [
    "policy_4 = np.ones(shape = (6*10, 4))*0.25\n",
    "state_actions = [[23,1], [33,0], [43,0], [53,0], [52,1], [51,1], [50,1]]\n",
    "for k in range(len(state_actions)):\n",
    "    s,a = state_actions[k]\n",
    "    policy_4[s] = 0\n",
    "    policy_4[s,a] = 1"
   ]
  },
  {
   "cell_type": "code",
   "execution_count": 30,
   "metadata": {},
   "outputs": [],
   "source": [
    "policy_6 = np.ones(shape = (6*10, 4))*0.25\n",
    "state_actions = [[23,1], [33,0], [43,0], [53,0], [52,1], [51,1], [50,1]]\n",
    "for k in range(len(state_actions)):\n",
    "    s,a = state_actions[k]\n",
    "    for action in range(4):\n",
    "        if action == a:\n",
    "            policy_6[s,action] = 0.85\n",
    "        else:\n",
    "            policy_6[s,action] = 0.05"
   ]
  },
  {
   "cell_type": "code",
   "execution_count": 31,
   "metadata": {},
   "outputs": [],
   "source": [
    "near_wall_states = []\n",
    "for j in range(10):\n",
    "    near_wall_states.append([0, j])\n",
    "    near_wall_states.append([5, j])\n",
    "for i in range(6):\n",
    "    near_wall_states.append([i, 0])\n",
    "    near_wall_states.append([i, 9])"
   ]
  },
  {
   "cell_type": "markdown",
   "metadata": {},
   "source": [
    "# Create DataFrame"
   ]
  },
  {
   "cell_type": "code",
   "execution_count": 33,
   "metadata": {},
   "outputs": [],
   "source": [
    "policy = np.ones(shape=(6 * 10, 4)) * 0.25\n",
    "np.random.seed(15)\n",
    "policy_2 = np.load('policy_2.npy')\n",
    "policy_5 = np.load('policy_5.npy')\n",
    "policy_6 = np.load(\"policy_6.npy\")\n",
    "\n",
    "GVD_1 = {\n",
    "    \"control\": False,\n",
    "    \"policy\" : policy,\n",
    "    \"transition_gen\" : gaussian_cumulant,\n",
    "    \"transition_gen_params\" : {}}\n",
    "\n",
    "horde_info = {\n",
    "    \"GVDs_info\" : [GVD_1],\n",
    "    \"num_quantiles\" : 51,\n",
    "    \"policy\" : policy,\n",
    "    \"batch_size\" : 32,\n",
    "    \"update_freq\" : 100,\n",
    "    \"eta\" : 5e-4\n",
    "}\n",
    "\n",
    "env_info = {\n",
    "    \"end_states\" : [[0,8]]}"
   ]
  },
  {
   "cell_type": "code",
   "execution_count": 34,
   "metadata": {},
   "outputs": [
    {
     "name": "stdout",
     "output_type": "stream",
     "text": [
      "100\n",
      "200\n",
      "300\n",
      "400\n",
      "500\n",
      "600\n",
      "700\n",
      "800\n",
      "900\n",
      "1000\n"
     ]
    }
   ],
   "source": [
    "rl = run_experiment(horde_info, env_info, num_episodes = 1000, plot_freq = 100)"
   ]
  },
  {
   "cell_type": "code",
   "execution_count": 35,
   "metadata": {},
   "outputs": [],
   "source": [
    "num_quantiles = 51\n",
    "gvd = rl.horde.GVDs[0]\n",
    "gvd.set_returns()\n",
    "gvd.setDataFrame()\n",
    "tau = (2 * np.arange(num_quantiles) + 1) / (2.0 * num_quantiles)"
   ]
  },
  {
   "cell_type": "code",
   "execution_count": 36,
   "metadata": {},
   "outputs": [],
   "source": [
    "z = gvd.get_returns(50, 1)\n",
    "theta = np.quantile(z, tau)"
   ]
  },
  {
   "cell_type": "code",
   "execution_count": 37,
   "metadata": {},
   "outputs": [
    {
     "data": {
      "text/plain": [
       "[<matplotlib.lines.Line2D at 0x7f945753a610>]"
      ]
     },
     "execution_count": 37,
     "metadata": {},
     "output_type": "execute_result"
    },
    {
     "data": {
      "image/png": "[encoded data removed]",
      "text/plain": [
       "<Figure size 432x288 with 1 Axes>"
      ]
     },
     "metadata": {
      "needs_background": "light"
     },
     "output_type": "display_data"
    }
   ],
   "source": [
    "plt.plot(theta, tau, marker = 'o', linestyle = \"--\")"
   ]
  },
  {
   "cell_type": "code",
   "execution_count": 38,
   "metadata": {},
   "outputs": [
    {
     "data": {
      "image/png": "[encoded data removed]",
      "text/plain": [
       "<Figure size 432x288 with 1 Axes>"
      ]
     },
     "metadata": {
      "needs_background": "light"
     },
     "output_type": "display_data"
    }
   ],
   "source": [
    "plt.hist(z)\n",
    "plt.show()"
   ]
  },
  {
   "cell_type": "code",
   "execution_count": 39,
   "metadata": {},
   "outputs": [],
   "source": [
    "# save data frame\n",
    "gvd.df.to_csv(\"results/monte_carlo/gaussian_policy_on_policy_returns\", index = False)"
   ]
  },
  {
   "cell_type": "markdown",
   "metadata": {},
   "source": [
    "# Read DataFrame"
   ]
  },
  {
   "cell_type": "code",
   "execution_count": 86,
   "metadata": {},
   "outputs": [],
   "source": [
    "df = pd.read_csv(\"results/monte_carlo/gaussian_policy4_returns_on_policy_ep_1000\")"
   ]
  },
  {
   "cell_type": "code",
   "execution_count": 87,
   "metadata": {},
   "outputs": [],
   "source": [
    "def get_returns(dataframe, last_state, last_action):\n",
    "    mask = (dataframe[\"last_state\"] == last_state)&(dataframe[\"last_action\"] == last_action)\n",
    "    return np.array(dataframe.loc[mask, \"return\"])"
   ]
  },
  {
   "cell_type": "code",
   "execution_count": 94,
   "metadata": {},
   "outputs": [],
   "source": [
    "z = get_returns(df, 53, 0)"
   ]
  },
  {
   "cell_type": "code",
   "execution_count": 95,
   "metadata": {},
   "outputs": [
    {
     "data": {
      "text/plain": [
       "[<matplotlib.lines.Line2D at 0x7fc005426050>]"
      ]
     },
     "execution_count": 95,
     "metadata": {},
     "output_type": "execute_result"
    },
    {
     "data": {
      "image/png": "[encoded data removed]",
      "text/plain": [
       "<Figure size 432x288 with 1 Axes>"
      ]
     },
     "metadata": {
      "needs_background": "light"
     },
     "output_type": "display_data"
    }
   ],
   "source": [
    "num_quantiles = 51\n",
    "tau = (2 * np.arange(num_quantiles) + 1) / (2.0 * num_quantiles)\n",
    "plt.plot(np.quantile(z, tau), tau)"
   ]
  },
  {
   "cell_type": "code",
   "execution_count": 82,
   "metadata": {},
   "outputs": [],
   "source": [
    "x2 = [1.4873465, 1.5250396, 1.5763447, 1.5916274, 1.5931348, 1.6308713,\n",
    "       1.6637831, 1.7092173, 1.710069 , 1.726568 , 1.7437801, 1.6993377,\n",
    "       1.781027 , 1.777509 , 1.7877609, 1.7942946, 1.8092121, 1.822461 ,\n",
    "       1.7912495, 1.8457975, 1.8227226, 1.8832405, 1.8739197, 1.8851328,\n",
    "       1.9036818, 1.8993297, 1.9006633, 1.9328592, 1.9234039, 1.9311965,\n",
    "       1.9378978, 1.9842445, 1.9806722, 2.004182 , 1.9866433, 1.9990867,\n",
    "       2.032519 , 2.0356731, 2.035716 , 2.0505443, 2.0483515, 2.0848312,\n",
    "       2.1506474, 2.1314344, 2.1753113, 2.308819 , 2.4008248, 2.5725484,\n",
    "       2.8355677, 3.6669977, 4.9106226]"
   ]
  },
  {
   "cell_type": "code",
   "execution_count": 83,
   "metadata": {},
   "outputs": [],
   "source": [
    "x1 = [1.0151321, 1.0953678, 1.1202487, 1.1328897, 1.1583525, 1.1829299,\n",
    "       1.1997426, 1.2089956, 1.2179028, 1.2369543, 1.2458746, 1.2545751,\n",
    "       1.2631645, 1.2876716, 1.2925508, 1.3015376, 1.3036195, 1.3238544,\n",
    "       1.3205838, 1.347596 , 1.3510941, 1.3637813, 1.3546482, 1.3892989,\n",
    "       1.3884026, 1.3940691, 1.4079249, 1.4354123, 1.448493 , 1.4451756,\n",
    "       1.4703088, 1.4724872, 1.4954284, 1.5114946, 1.5248369, 1.523098 ,\n",
    "       1.5501531, 1.5703162, 1.5843611, 1.6231387, 1.6364424, 1.6588783,\n",
    "       1.699343 , 1.7503529, 1.7753297, 1.8055806, 1.8403741, 1.9299536,\n",
    "       1.9918199, 2.1393263, 2.5307782]"
   ]
  },
  {
   "cell_type": "code",
   "execution_count": 84,
   "metadata": {},
   "outputs": [
    {
     "data": {
      "text/plain": [
       "1.3031748283928026"
      ]
     },
     "execution_count": 84,
     "metadata": {},
     "output_type": "execute_result"
    }
   ],
   "source": [
    "st.wasserstein_distance(x1, z)"
   ]
  },
  {
   "cell_type": "code",
   "execution_count": 85,
   "metadata": {},
   "outputs": [
    {
     "data": {
      "text/plain": [
       "1.5480577498413632"
      ]
     },
     "execution_count": 85,
     "metadata": {},
     "output_type": "execute_result"
    }
   ],
   "source": [
    "st.wasserstein_distance(x2, z)"
   ]
  },
  {
   "cell_type": "code",
   "execution_count": null,
   "metadata": {},
   "outputs": [],
   "source": []
  }
 ],
 "metadata": {
  "kernelspec": {
   "display_name": "Python 3",
   "language": "python",
   "name": "python3"
  },
  "language_info": {
   "codemirror_mode": {
    "name": "ipython",
    "version": 3
   },
   "file_extension": ".py",
   "mimetype": "text/x-python",
   "name": "python",
   "nbconvert_exporter": "python",
   "pygments_lexer": "ipython3",
   "version": "3.7.6"
  }
 },
 "nbformat": 4,
 "nbformat_minor": 4
}
