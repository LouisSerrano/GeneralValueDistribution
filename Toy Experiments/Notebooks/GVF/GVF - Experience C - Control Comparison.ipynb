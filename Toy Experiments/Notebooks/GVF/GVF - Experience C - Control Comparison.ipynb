{
 "cells": [
  {
   "cell_type": "code",
   "execution_count": 2,
   "metadata": {},
   "outputs": [],
   "source": [
    "import numpy as np\n",
    "import matplotlib.pyplot as plt\n",
    "import os, jdc, shutil\n",
    "from tqdm import tqdm\n",
    "\n",
    "path = '/Users/louisserrano/Documents/Oxford/Courses/Trinity/Dissertation/Code/Toy Experiments/Scripts'\n",
    "os.chdir(path)\n",
    "\n",
    "from rl_glue_horde import RLGlueHorde\n",
    "from utils import ReplayBuffer, MazeTileCoder\n",
    "from toy_horde import Horde\n",
    "from toy_env_horde import ToyEnvironment\n",
    "import seaborn as sns\n",
    "import tiles3 as tc\n",
    "import scipy.stats as st\n",
    "import random\n",
    "\n",
    "path ='/Users/louisserrano/Documents/Oxford/Courses/Trinity/Dissertation/Code/Toy Experiments/Notebooks/GVF'\n",
    "os.chdir(path)"
   ]
  },
  {
   "cell_type": "code",
   "execution_count": 51,
   "metadata": {},
   "outputs": [],
   "source": [
    "### inherit the abstract class\n",
    "\n",
    "class Horde(BaseHorde):\n",
    "    \"\"\"Implements the agent for an RL-Glue environment.\n",
    "    Note:\n",
    "        agent_init, agent_start, agent_step, agent_end, agent_cleanup, and\n",
    "        agent_message are required methods.\n",
    "    \"\"\"\n",
    "\n",
    "    def horde_init(self, horde_info= {}):\n",
    "        # Create a random number generator with the provided seed to seed the agent for reproducibility.\n",
    "        self.rand_generator = np.random.RandomState(horde_info.get(\"seed\"))\n",
    "        # behaviour policy \n",
    "        self.policy = horde_info.get(\"policy\")\n",
    "        self.on_policy = horde_info.get(\"on_policy\", False)\n",
    "        \n",
    "        if self.on_policy:\n",
    "            self.epsilon = horde_info.get(\"epsilon\", 0.05)\n",
    "            self.on_policy_GVF = horde_info.get(\"on_policy_GVF\")\n",
    "        self.valueGVF_number = horde_info.get(\"valueGVF_number\")\n",
    "        self.actionGVF_number = horde_info.get(\"actionGVF_number\")\n",
    "        dic = {}\n",
    "        for j in range(1, self.valueGVF_number + 1):\n",
    "            name = \"V{}\".format(j)\n",
    "            if(horde_info.get(name) != None):\n",
    "                dic[name] = ValueGVF(horde_info.get(name))\n",
    "        for j in range(1, self.actionGVF_number + 1):\n",
    "            name = \"A{}\".format(j)\n",
    "            if(horde_info.get(name) != None):\n",
    "                dic[name] = ActionValueGVF(horde_info.get(name))\n",
    "        self.GVFs = dic\n",
    "        \"\"\"Setup for the agent called when the experiment first starts.\"\"\"\n",
    "\n",
    "    def horde_start(self, state):\n",
    "        \"\"\"The first method called when the experiment starts, called after\n",
    "        the environment starts.\n",
    "        Args:\n",
    "            observation (Numpy array): the state observation from the environment's env_start function.\n",
    "        Returns:\n",
    "            The first action the agent takes. \n",
    "        \"\"\"\n",
    "        \n",
    "        action = self.rand_generator.choice(range(self.policy.shape[1]), p=self.policy[state])\n",
    "        \n",
    "        if self.on_policy:\n",
    "            ## epsilon greedy policy\n",
    "            u = np.random.uniform(0,1)\n",
    "            if u < self.epsilon:\n",
    "                pass\n",
    "            else:\n",
    "                pi = self.GVFs[self.on_policy_GVF].policy\n",
    "                action = self.rand_generator.choice(range(self.policy.shape[1]), p=pi[state])\n",
    "        \n",
    "        # value gvf\n",
    "        for j in range(1, self.valueGVF_number + 1):\n",
    "            name = \"V{}\".format(j)\n",
    "            gvf = self.GVFs.get(name)\n",
    "            if gvf != None:\n",
    "                gvf.start(state, action)\n",
    "                self.GVFs.update({name : gvf})\n",
    "            \n",
    "        # action value gvf\n",
    "        for j in range(1, self.actionGVF_number + 1):\n",
    "            name = \"A{}\".format(j)\n",
    "            gvf = self.GVFs.get(name)\n",
    "            if gvf != None:\n",
    "                gvf.start(state, action)\n",
    "                self.GVFs.update({name : gvf})\n",
    "            \n",
    "        self.last_state = state\n",
    "        self.last_action = action\n",
    "        \n",
    "        return action\n",
    "\n",
    "    def horde_step(self, state):\n",
    "        \"\"\"A step taken by the agent.\n",
    "        Args:\n",
    "            reward (float): the reward received for taking the last action taken\n",
    "            observation (Numpy array): the state observation from the\n",
    "                environment's step based, where the agent ended up after the\n",
    "                last step\n",
    "        Returns:\n",
    "            The action the agent is taking.\n",
    "        \"\"\"\n",
    "        # value gvf\n",
    "        action = self.rand_generator.choice(range(self.policy.shape[1]), p=self.policy[state])\n",
    "        \n",
    "        if self.on_policy:\n",
    "            ## epsilon greedy policy\n",
    "            u = np.random.uniform(0,1)\n",
    "            if u < self.epsilon:\n",
    "                action = self.rand_generator.choice(range(self.policy.shape[1]), p=self.policy[state])\n",
    "            else:\n",
    "                pi = self.GVFs[self.on_policy_GVF].policy\n",
    "                action = self.rand_generator.choice(range(self.policy.shape[1]), p=pi[state])\n",
    "        \n",
    "        \n",
    "        for j in range(1, self.valueGVF_number + 1):\n",
    "            name = \"V{}\".format(j)\n",
    "            gvf = self.GVFs.get(name)\n",
    "            if gvf != None:\n",
    "                rho = gvf.policy[self.last_state, self.last_action] / self.policy[self.last_state, self.last_action]\n",
    "                gvf.step(state, rho)\n",
    "                self.GVFs.update({name : gvf})\n",
    "            \n",
    "        # action value gvf    \n",
    "        for j in range(1, self.actionGVF_number + 1):\n",
    "            name = \"A{}\".format(j)\n",
    "            gvf = self.GVFs.get(name)\n",
    "            if gvf != None:\n",
    "                rho = gvf.policy[self.last_state, self.last_action] / self.policy[self.last_state, self.last_action]\n",
    "                gvf.step(state, action, rho)\n",
    "                self.GVFs.update({name : gvf})\n",
    "        \n",
    "        self.last_state = state\n",
    "        self.last_action = action\n",
    "        \n",
    "        return self.last_action\n",
    "\n",
    "    def horde_end(self, state):\n",
    "        \"\"\"Run when the agent terminates.\n",
    "        Args:\n",
    "            reward (float): the reward the agent received for entering the terminal state.\n",
    "        \"\"\"\n",
    "        action = self.rand_generator.choice(range(self.policy.shape[1]), p=self.policy[state])\n",
    "        \n",
    "        if self.on_policy:\n",
    "            ## epsilon greedy policy\n",
    "            u = np.random.uniform(0,1)\n",
    "            if u < self.epsilon:\n",
    "                action = self.rand_generator.choice(range(self.policy.shape[1]), p=self.policy[state])\n",
    "            else:\n",
    "                pi = self.GVFs[self.on_policy_GVF].policy\n",
    "                action = self.rand_generator.choice(range(self.policy.shape[1]), p=pi[state])\n",
    "        \n",
    "        # value gvf\n",
    "        for j in range(1, self.valueGVF_number + 1):\n",
    "            name = \"V{}\".format(j)\n",
    "            gvf = self.GVFs.get(name)\n",
    "            if gvf != None:\n",
    "                rho = gvf.policy[self.last_state, self.last_action] / self.policy[self.last_state, self.last_action]\n",
    "                gvf.end(state, rho)\n",
    "                self.GVFs.update({name : gvf})\n",
    "            \n",
    "        # action value gvf    \n",
    "        for j in range(1, self.actionGVF_number + 1):\n",
    "            name = \"A{}\".format(j)\n",
    "            gvf = self.GVFs.get(name)\n",
    "            if gvf != None:\n",
    "                rho = gvf.policy[self.last_state, self.last_action] / self.policy[self.last_state, self.last_action]\n",
    "                gvf.end(state, action, rho)\n",
    "                self.GVFs.update({name : gvf})\n",
    "            \n",
    "    def horde_cleanup(self):\n",
    "        \"\"\"Cleanup done after the agent ends.\"\"\"\n",
    "\n",
    "    def horde_message(self, message):\n",
    "        \"\"\"A function used to pass information from the agent to the experiment.\n",
    "        Args:\n",
    "            message: The message passed to the agent.\n",
    "        Returns:\n",
    "            The response (or answer) to the message.\n",
    "        \"\"\""
   ]
  },
  {
   "cell_type": "code",
   "execution_count": 11,
   "metadata": {},
   "outputs": [],
   "source": [
    "class ValueGVF:\n",
    "    def __init__(self, agent_info={}):\n",
    "        self.lambd = agent_info.get(\"lambda\", 0.1)\n",
    "        self.alpha = agent_info.get(\"alpha\", 0.1)\n",
    "        self.beta =  0.1*self.alpha\n",
    "        self.gamma = agent_info.get(\"gamma\", 0.95)\n",
    "        self.last_gamma = self.gamma\n",
    "        self.current_gamma = None\n",
    "        self.last_state = None\n",
    "        \n",
    "        self.num_tilings = agent_info.get(\"num_tilings\", 4)\n",
    "        self.num_tiles = agent_info.get(\"num_tiles\", 4)\n",
    "        self.tc = MazeTileCoder(num_tilings=self.num_tilings, \n",
    "                                         num_tiles=self.num_tiles)\n",
    "        self.iht_size = self.tc.iht_size\n",
    "        self.weights = np.zeros(self.iht_size)\n",
    "        self.hWeights = np.zeros(self.iht_size)\n",
    "        self.eligTrace = np.zeros(self.iht_size)\n",
    "\n",
    "        self.objective_states = agent_info.get(\"objective_states\", [[2,4]])\n",
    "        if len(self.objective_states) == 1:\n",
    "            self.objective_states = self.objective_states[0]\n",
    "            \n",
    "        self.transition_gen_ = agent_info.get(\"transition_gen\")\n",
    "        self.transition_gen_params = agent_info.get(\"transition_gen_params\", {})\n",
    "        \n",
    "        self.policy = agent_info.get(\"policy\")\n",
    "        self.values = np.zeros((6,10))\n",
    "        obstacles = [[2,1],[3,1],[4,1],[0,4],[1,4],[5,5],[1,7],[2,7],[2,8],[3,8]]\n",
    "        for (i,j) in obstacles:\n",
    "            self.values[i,j] = np.nan\n",
    "        \n",
    "    def transition_gen(self, state):\n",
    "        return self.transition_gen_(self.objective_states, state, self.gamma, self.transition_gen_params)\n",
    "    \n",
    "    def argmax(self, state):\n",
    "        top = float(\"-inf\")\n",
    "        ties = []\n",
    "\n",
    "        for i in range(self.num_actions):\n",
    "            if q_values[i] > top:\n",
    "                top = self.q_values[state][i]\n",
    "                ties = []\n",
    "\n",
    "            if q_values[state][i] == top:\n",
    "                ties.append(i)\n",
    "        return ties\n",
    "    \n",
    "    def start(self, state, action, rho = 1.0):\n",
    "        self.last_state = state\n",
    "        self.last_action = action\n",
    "        self.eligTrace = np.zeros(self.iht_size)\n",
    "        \n",
    "        return action\n",
    "    \n",
    "    def step(self, state, rho = 1.0): \n",
    "        # get relevant feature\n",
    "        last_i, last_j = self.tc.get_observation(self.last_state)\n",
    "        last_state_vector = self.tc.get_state_vector(self.last_state)\n",
    "        current_state_vector = self.tc.get_state_vector(state)\n",
    "        \n",
    "        cumulant, gamma = self.transition_gen(state)\n",
    "        self.cumulant = cumulant\n",
    "        \n",
    "        ## retrieve the values\n",
    "        self.last_state_value = np.sum(self.weights*last_state_vector)\n",
    "        self.current_state_value = np.sum(self.weights*current_state_vector)\n",
    "        \n",
    "        ##GTD lambda updates\n",
    "        self.delta = self.cumulant + (gamma * self.current_state_value - self.last_state_value)\n",
    "        self.eligTrace = rho*(self.lambd * self.last_gamma * self.eligTrace + last_state_vector)\n",
    "        self.weights += self.alpha *(self.delta * self.eligTrace - gamma*(1-self.lambd)*np.dot(self.eligTrace, self.hWeights)*current_state_vector)\n",
    "        self.hWeights += self.beta * (self.delta*self.eligTrace - np.sum(self.hWeights*last_state_vector)*last_state_vector)\n",
    "        \n",
    "        self.values[last_i, last_j] = np.sum(self.weights*last_state_vector)\n",
    "        \n",
    "        self.last_gamma = gamma\n",
    "        self.prediction = self.last_state_value\n",
    "        \n",
    "        self.last_state = state\n",
    "        \n",
    "    def end(self, state, rho = 1.0): \n",
    "        # get relevant feature\n",
    "        last_i, last_j = self.tc.get_observation(self.last_state)\n",
    "        last_state_vector = self.tc.get_state_vector(self.last_state)\n",
    "        current_state_vector = self.tc.get_state_vector(state)\n",
    "        \n",
    "        cumulant, gamma = self.transition_gen(state)\n",
    "        self.cumulant = cumulant\n",
    "        \n",
    "        ## retrieve the values\n",
    "        self.last_state_value = np.sum(self.weights*last_state_vector)\n",
    "        self.current_state_value = np.sum(self.weights*current_state_vector)\n",
    "        \n",
    "        ##GTD lambda updates\n",
    "        self.delta = self.cumulant + (gamma * self.current_state_value - self.last_state_value)\n",
    "        self.eligTrace = rho*(self.lambd * self.last_gamma * self.eligTrace + last_state_vector)\n",
    "        self.weights += self.alpha *(self.delta * self.eligTrace - gamma*(1-self.lambd)*np.dot(self.eligTrace, self.hWeights)*current_state_vector)\n",
    "        self.hWeights += self.beta * (self.delta*self.eligTrace - np.sum(self.hWeights*last_state_vector)*last_state_vector)\n",
    "        \n",
    "        self.values[last_i, last_j] = np.sum(self.weights*last_state_vector)\n",
    "        \n",
    "        self.last_gamma = gamma\n",
    "        self.prediction = self.last_state_value\n",
    "        \n",
    "        \n",
    "        self.last_gamma = gamma\n",
    "        self.prediction = self.last_state_value    "
   ]
  },
  {
   "cell_type": "code",
   "execution_count": 4,
   "metadata": {},
   "outputs": [],
   "source": [
    "def run_experiment(horde_info, env_info = {},\n",
    "                   num_episodes=1,\n",
    "                   plot_freq = 10,\n",
    "                   value_error_threshold=1e-8):\n",
    "    \n",
    "    env = ToyEnvironment\n",
    "    horde = Horde\n",
    "    rl_glue = RLGlueHorde(env, horde)\n",
    "\n",
    "    rl_glue.rl_init(horde_info, env_info)\n",
    "\n",
    "    for episode in range(1, num_episodes + 1):\n",
    "        rl_glue.rl_episode(0) # no step limit\n",
    "        if episode%plot_freq == 0:\n",
    "            print(episode)\n",
    "    \n",
    "    return rl_glue"
   ]
  },
  {
   "cell_type": "code",
   "execution_count": 23,
   "metadata": {},
   "outputs": [],
   "source": [
    "def deterministic_cumulant(objective_state, state, gamma, params):\n",
    "    r = params.get(\"r\", 10)\n",
    "    if state == objective_state:\n",
    "        cumulant = r\n",
    "        gamma = 0\n",
    "    else:\n",
    "        cumulant = 0\n",
    "        gamma = gamma\n",
    "    return cumulant, gamma"
   ]
  },
  {
   "cell_type": "code",
   "execution_count": 24,
   "metadata": {},
   "outputs": [],
   "source": [
    "def bernouilli_cumulant(objective_state, state, gamma, params):\n",
    "    r = params.get(\"r\", 10)\n",
    "    if state == objective_state:\n",
    "        cumulant = np.random.binomial(1, 0.5)*2*r\n",
    "        gamma = 0\n",
    "    else:\n",
    "        cumulant = 0\n",
    "        gamma = gamma\n",
    "    return cumulant, gamma"
   ]
  },
  {
   "cell_type": "code",
   "execution_count": 12,
   "metadata": {},
   "outputs": [],
   "source": [
    "def banana_or_apple(objective_states, state, gamma):\n",
    "    state = [state //10, state%10]\n",
    "    r = params.get(\"r\", 10)\n",
    "    if state == objective_states[0]:\n",
    "        cumulant = r\n",
    "        gamma = 0\n",
    "    elif state == objective_states[1]:\n",
    "        cumulant = np.random.binomial(1, 0.5)*2*r\n",
    "        gamma = 0\n",
    "    else: \n",
    "        cumulant = 0\n",
    "        gamma = gamma\n",
    "    return cumulant, gamma "
   ]
  },
  {
   "cell_type": "code",
   "execution_count": 8,
   "metadata": {},
   "outputs": [],
   "source": [
    "policy = np.ones(shape=(6 * 10, 4)) * 0.25\n",
    "random.seed(50)\n",
    "policy_2 = st.dirichlet.rvs(alpha = [2,4,3,1], size = 6*10)\n",
    "policy_3 = np.zeros((6*10, 4))\n",
    "policy_3[:,1] = 1\n",
    "\n",
    "V_info_1 = {\n",
    "    \"policy\": policy_2,\n",
    "    \"lambda\" : 0.1,\n",
    "    \"alpha\": 0.1/4,\n",
    "    \"num_tilings\" : 4,\n",
    "    \"num_tiles\" : 4,\n",
    "    \"objective_state\" : [2,4],\n",
    "    \"transition_gen\" : deterministic_cumulant}\n",
    "\n",
    "V_info_2 = {\n",
    "    \"policy\": policy_2,\n",
    "    \"lambda\" : 0.1,\n",
    "    \"alpha\": 0.1/4,\n",
    "    \"num_tilings\" : 4,\n",
    "    \"num_tiles\" : 4,\n",
    "    \"transition_gen\" : bernouilli_cumulant,\n",
    "    \"objective_state\" : [4,6]}\n",
    "\n",
    "V_info_3 = {\n",
    "    \"control\" : True,\n",
    "    \"policy\": policy,\n",
    "    \"lambda\" : 0.1,\n",
    "    \"alpha\": 0.1/4,\n",
    "    \"transition_gen\" : banana_or_apple,\n",
    "    \"objective_states\" : [[2,4], [4,8]]}\n",
    "\n",
    "horde_info = {\n",
    "    \"valueGVF_number\" : 3,\n",
    "    \"actionGVF_number\" : 0,\n",
    "    \"V1\" : V_info_1,\n",
    "    \"V2\" : V_info_2,\n",
    "    \"V3\" : V_info_3,\n",
    "    \"policy\" : policy,\n",
    "    \"on_policy\" : False\n",
    "}\n",
    "env_info = {\n",
    "    \"end_states\" : [[0,8]]\n",
    "}"
   ]
  },
  {
   "cell_type": "code",
   "execution_count": 9,
   "metadata": {},
   "outputs": [
    {
     "ename": "NameError",
     "evalue": "name 'ValueGVF' is not defined",
     "output_type": "error",
     "traceback": [
      "\u001b[0;31m---------------------------------------------------------------------------\u001b[0m",
      "\u001b[0;31mNameError\u001b[0m                                 Traceback (most recent call last)",
      "\u001b[0;32m<ipython-input-9-2c5c7028ae1b>\u001b[0m in \u001b[0;36m<module>\u001b[0;34m\u001b[0m\n\u001b[0;32m----> 1\u001b[0;31m \u001b[0mrl\u001b[0m \u001b[0;34m=\u001b[0m \u001b[0mrun_experiment\u001b[0m\u001b[0;34m(\u001b[0m\u001b[0mhorde_info\u001b[0m\u001b[0;34m,\u001b[0m \u001b[0menv_info\u001b[0m\u001b[0;34m,\u001b[0m \u001b[0;36m100\u001b[0m\u001b[0;34m)\u001b[0m\u001b[0;34m\u001b[0m\u001b[0;34m\u001b[0m\u001b[0m\n\u001b[0m",
      "\u001b[0;32m<ipython-input-4-946d71a56c6f>\u001b[0m in \u001b[0;36mrun_experiment\u001b[0;34m(horde_info, env_info, num_episodes, plot_freq, value_error_threshold)\u001b[0m\n\u001b[1;32m      8\u001b[0m     \u001b[0mrl_glue\u001b[0m \u001b[0;34m=\u001b[0m \u001b[0mRLGlueHorde\u001b[0m\u001b[0;34m(\u001b[0m\u001b[0menv\u001b[0m\u001b[0;34m,\u001b[0m \u001b[0mhorde\u001b[0m\u001b[0;34m)\u001b[0m\u001b[0;34m\u001b[0m\u001b[0;34m\u001b[0m\u001b[0m\n\u001b[1;32m      9\u001b[0m \u001b[0;34m\u001b[0m\u001b[0m\n\u001b[0;32m---> 10\u001b[0;31m     \u001b[0mrl_glue\u001b[0m\u001b[0;34m.\u001b[0m\u001b[0mrl_init\u001b[0m\u001b[0;34m(\u001b[0m\u001b[0mhorde_info\u001b[0m\u001b[0;34m,\u001b[0m \u001b[0menv_info\u001b[0m\u001b[0;34m)\u001b[0m\u001b[0;34m\u001b[0m\u001b[0;34m\u001b[0m\u001b[0m\n\u001b[0m\u001b[1;32m     11\u001b[0m \u001b[0;34m\u001b[0m\u001b[0m\n\u001b[1;32m     12\u001b[0m     \u001b[0;32mfor\u001b[0m \u001b[0mepisode\u001b[0m \u001b[0;32min\u001b[0m \u001b[0mrange\u001b[0m\u001b[0;34m(\u001b[0m\u001b[0;36m1\u001b[0m\u001b[0;34m,\u001b[0m \u001b[0mnum_episodes\u001b[0m \u001b[0;34m+\u001b[0m \u001b[0;36m1\u001b[0m\u001b[0;34m)\u001b[0m\u001b[0;34m:\u001b[0m\u001b[0;34m\u001b[0m\u001b[0;34m\u001b[0m\u001b[0m\n",
      "\u001b[0;32m~/Documents/Oxford/Courses/Trinity/Dissertation/Code/Toy experiments/Scripts/rl_glue_horde.py\u001b[0m in \u001b[0;36mrl_init\u001b[0;34m(self, horde_init_info, env_init_info)\u001b[0m\n\u001b[1;32m     27\u001b[0m         \u001b[0;34m\"\"\"Initial method called when RLGlue experiment is created\"\"\"\u001b[0m\u001b[0;34m\u001b[0m\u001b[0;34m\u001b[0m\u001b[0m\n\u001b[1;32m     28\u001b[0m         \u001b[0mself\u001b[0m\u001b[0;34m.\u001b[0m\u001b[0menvironment\u001b[0m\u001b[0;34m.\u001b[0m\u001b[0menv_init\u001b[0m\u001b[0;34m(\u001b[0m\u001b[0menv_init_info\u001b[0m\u001b[0;34m)\u001b[0m\u001b[0;34m\u001b[0m\u001b[0;34m\u001b[0m\u001b[0m\n\u001b[0;32m---> 29\u001b[0;31m         \u001b[0mself\u001b[0m\u001b[0;34m.\u001b[0m\u001b[0mhorde\u001b[0m\u001b[0;34m.\u001b[0m\u001b[0mhorde_init\u001b[0m\u001b[0;34m(\u001b[0m\u001b[0mhorde_init_info\u001b[0m\u001b[0;34m)\u001b[0m\u001b[0;34m\u001b[0m\u001b[0;34m\u001b[0m\u001b[0m\n\u001b[0m\u001b[1;32m     30\u001b[0m \u001b[0;34m\u001b[0m\u001b[0m\n\u001b[1;32m     31\u001b[0m         \u001b[0;31m#self.total_reward = 0.0\u001b[0m\u001b[0;34m\u001b[0m\u001b[0;34m\u001b[0m\u001b[0;34m\u001b[0m\u001b[0m\n",
      "\u001b[0;32m~/Documents/Oxford/Courses/Trinity/Dissertation/Code/Toy experiments/Scripts/toy_horde.py\u001b[0m in \u001b[0;36mhorde_init\u001b[0;34m(self, horde_info)\u001b[0m\n\u001b[1;32m     35\u001b[0m             \u001b[0mname\u001b[0m \u001b[0;34m=\u001b[0m \u001b[0;34m\"V{}\"\u001b[0m\u001b[0;34m.\u001b[0m\u001b[0mformat\u001b[0m\u001b[0;34m(\u001b[0m\u001b[0mj\u001b[0m\u001b[0;34m)\u001b[0m\u001b[0;34m\u001b[0m\u001b[0;34m\u001b[0m\u001b[0m\n\u001b[1;32m     36\u001b[0m             \u001b[0;32mif\u001b[0m\u001b[0;34m(\u001b[0m\u001b[0mhorde_info\u001b[0m\u001b[0;34m.\u001b[0m\u001b[0mget\u001b[0m\u001b[0;34m(\u001b[0m\u001b[0mname\u001b[0m\u001b[0;34m)\u001b[0m \u001b[0;34m!=\u001b[0m \u001b[0;32mNone\u001b[0m\u001b[0;34m)\u001b[0m\u001b[0;34m:\u001b[0m\u001b[0;34m\u001b[0m\u001b[0;34m\u001b[0m\u001b[0m\n\u001b[0;32m---> 37\u001b[0;31m                 \u001b[0mdic\u001b[0m\u001b[0;34m[\u001b[0m\u001b[0mname\u001b[0m\u001b[0;34m]\u001b[0m \u001b[0;34m=\u001b[0m \u001b[0mValueGVF\u001b[0m\u001b[0;34m(\u001b[0m\u001b[0mhorde_info\u001b[0m\u001b[0;34m.\u001b[0m\u001b[0mget\u001b[0m\u001b[0;34m(\u001b[0m\u001b[0mname\u001b[0m\u001b[0;34m)\u001b[0m\u001b[0;34m)\u001b[0m\u001b[0;34m\u001b[0m\u001b[0;34m\u001b[0m\u001b[0m\n\u001b[0m\u001b[1;32m     38\u001b[0m         \u001b[0;32mfor\u001b[0m \u001b[0mj\u001b[0m \u001b[0;32min\u001b[0m \u001b[0mrange\u001b[0m\u001b[0;34m(\u001b[0m\u001b[0;36m1\u001b[0m\u001b[0;34m,\u001b[0m \u001b[0mself\u001b[0m\u001b[0;34m.\u001b[0m\u001b[0mactionGVF_number\u001b[0m \u001b[0;34m+\u001b[0m \u001b[0;36m1\u001b[0m\u001b[0;34m)\u001b[0m\u001b[0;34m:\u001b[0m\u001b[0;34m\u001b[0m\u001b[0;34m\u001b[0m\u001b[0m\n\u001b[1;32m     39\u001b[0m             \u001b[0mname\u001b[0m \u001b[0;34m=\u001b[0m \u001b[0;34m\"A{}\"\u001b[0m\u001b[0;34m.\u001b[0m\u001b[0mformat\u001b[0m\u001b[0;34m(\u001b[0m\u001b[0mj\u001b[0m\u001b[0;34m)\u001b[0m\u001b[0;34m\u001b[0m\u001b[0;34m\u001b[0m\u001b[0m\n",
      "\u001b[0;31mNameError\u001b[0m: name 'ValueGVF' is not defined"
     ]
    }
   ],
   "source": [
    "rl = run_experiment(horde_info, env_info, 100)"
   ]
  },
  {
   "cell_type": "code",
   "execution_count": 20,
   "metadata": {},
   "outputs": [],
   "source": [
    "v = rl.horde.GVFs[\"V3\"].values"
   ]
  },
  {
   "cell_type": "code",
   "execution_count": 21,
   "metadata": {},
   "outputs": [
    {
     "data": {
      "image/png": "[encoded data removed]",
      "text/plain": [
       "<Figure size 432x288 with 2 Axes>"
      ]
     },
     "metadata": {
      "needs_background": "light"
     },
     "output_type": "display_data"
    }
   ],
   "source": [
    "h = sns.heatmap(v, cmap = \"Blues\")\n",
    "h.set_facecolor('grey')\n",
    "plt.show()"
   ]
  },
  {
   "cell_type": "code",
   "execution_count": 65,
   "metadata": {},
   "outputs": [],
   "source": [
    "class ActionValueGVF:\n",
    "    def __init__(self, agent_info={}):\n",
    "        \n",
    "        ## parameters\n",
    "        self.lambd = agent_info.get(\"lambda\", 0.1)\n",
    "        self.alpha = agent_info.get(\"alpha\", 0.1)\n",
    "        self.beta = agent_info.get(\"beta\", 0.01)\n",
    "        self.gamma = agent_info.get(\"gamma\", 0.95)\n",
    "        self.num_actions = agent_info.get(\"num_actions\", 4)\n",
    "        self.last_gamma = self.gamma\n",
    "        self.current_gamma = None\n",
    "        self.last_state = None\n",
    "        \n",
    "        ## tile coding\n",
    "        self.num_tilings = agent_info.get(\"num_tilings\", 4)\n",
    "        self.num_tiles = agent_info.get(\"num_tiles\", 4)\n",
    "        \n",
    "        self.iht_size = agent_info.get(\"iht_size\", 4096)\n",
    "        self.weights = np.zeros(self.iht_size*self.num_actions)\n",
    "        self.hWeights = np.zeros(self.iht_size*self.num_actions)\n",
    "        self.eligTrace = np.zeros(self.iht_size*self.num_actions)\n",
    "\n",
    "        self.tc = MazeTileCoder(iht_size=self.iht_size, \n",
    "                                         num_tilings=self.num_tilings, \n",
    "                                         num_tiles=self.num_tiles)\n",
    "        ## all_state_action_vectors\n",
    "        \n",
    "        self.all_state_action_vectors = np.zeros((60, self.num_actions, self.iht_size*self.num_actions))\n",
    "        for s in range(60):\n",
    "            for a in range(self.num_actions):\n",
    "                self.all_state_action_vectors[s, a, :] = self.get_state_action_vector(s,a)\n",
    "                \n",
    "        ## objective state\n",
    "        self.objective_states = agent_info.get(\"objective_states\", [2,4])\n",
    "        if len(self.objective_states) == 1:\n",
    "            self.objective_states = self.objective_states[0]\n",
    "        self.transition_gen_ = agent_info.get(\"transition_gen\")\n",
    "        \n",
    "        ## distrib params\n",
    "        self.mu = agent_info.get(\"mu\", 10)\n",
    "        self.sigma = agent_info.get(\"sigma\", 0.001)\n",
    "        \n",
    "        self.control = agent_info.get(\"control\", False)\n",
    "        if not self.control:\n",
    "            self.policy = agent_info.get(\"policy\")\n",
    "        else:\n",
    "            self.policy = np.ones((60, self.num_actions))/self.num_actions\n",
    "        self.q_values = np.zeros((60, self.num_actions))\n",
    "        self.obstacles = [[2,1],[3,1],[4,1],[0,4],[1,4],[5,5],[1,7],[2,7],[2,8],[3,8]]\n",
    "        \n",
    "    def get_state_action_vector(self, state, a):\n",
    "        state_vector = self.tc.get_state_vector(state)\n",
    "        state_action_vector = np.zeros(self.iht_size*self.num_actions)\n",
    "        state_action_vector[a*self.iht_size:(a+1)*self.iht_size] = state_vector\n",
    "        return state_action_vector\n",
    "        \n",
    "    def transition_gen(self, state):\n",
    "        return self.transition_gen_(self.objective_states, state, self.gamma)\n",
    "    \n",
    "    def argmax(self, state):\n",
    "        top = float(\"-inf\")\n",
    "        ties = []\n",
    "        q = self.q_values[state]\n",
    "        for i in range(self.num_actions):\n",
    "            if q[i] > top:\n",
    "                top = q[i]\n",
    "                ties = []\n",
    "\n",
    "            if q[i] == top:\n",
    "                ties.append(i)\n",
    "        return ties\n",
    "        \n",
    "    def update_qvalues(self):\n",
    "        self.q_values = np.sum(self.all_state_action_vectors * self.weights, -1)\n",
    "        if self.control:\n",
    "            for s in range(60):\n",
    "                self.update_greedy_policy(s)\n",
    "        \n",
    "    def update_greedy_policy(self, state):\n",
    "        arg_max = self.argmax(state)\n",
    "        for action in range(4):\n",
    "            if (action in arg_max):\n",
    "                self.policy[state, action] = 1/len(arg_max)\n",
    "            else :\n",
    "                self.policy[state, action] = 0\n",
    "    \n",
    "    def start(self, state, action, rho = 1.0):\n",
    "        self.last_state = state\n",
    "        self.last_action = action\n",
    "        self.eligTrace = np.zeros(self.iht_size*self.num_actions)\n",
    "        return action\n",
    "\n",
    "    \n",
    "    def step(self, state, action, rho = 1.0): \n",
    "        # get relevant feature\n",
    "        \n",
    "        cumulant, gamma = self.transition_gen(state)\n",
    "        self.cumulant = cumulant\n",
    "        \n",
    "        ## retrieve the values\n",
    "        last_vector = self.get_state_action_vector(self.last_state, self.last_action)\n",
    "        self.last_value = np.sum(self.weights*last_vector)\n",
    "        current_vector = np.zeros(self.iht_size*self.num_actions)\n",
    "        \n",
    "        ## mean current vector\n",
    "        for a in range(4):\n",
    "            current_vector += self.policy[state][a]*self.get_state_action_vector(state, a) \n",
    "        current_value = np.sum(self.weights*current_vector)\n",
    "        \n",
    "        ##GQ lambda update\n",
    "        self.delta = self.cumulant + (gamma * current_value - self.last_value)\n",
    "        self.eligTrace = rho * self.lambd * self.last_gamma * self.eligTrace + last_vector\n",
    "        self.weights += self.alpha *(self.delta * self.eligTrace - gamma*(1-self.lambd)*np.sum(self.eligTrace * self.hWeights)*current_vector)\n",
    "        self.hWeights += self.beta * (self.delta*self.eligTrace - np.sum(self.hWeights*last_vector)*last_vector)\n",
    "        \n",
    "        ## update q_values\n",
    "        #self.q_values[self.last_state, self.last_action] = np.sum(self.weights*last_vector)\n",
    "        \n",
    "        self.update_qvalues()\n",
    "\n",
    "        \n",
    "        #for s in range(60):\n",
    "        #    for a in range(self.num_actions):\n",
    "        #        vector = self.get_state_action_vector(s, a)\n",
    "        #        self.q_values[s, a] = np.sum(self.weights*vector)\n",
    "        #        if self.control:\n",
    "        #            self.update_greedy_policy(s)\n",
    "        \n",
    "        self.last_gamma = gamma\n",
    "        self.last_state = state\n",
    "        self.last_action = action\n",
    "        \n",
    "    def end(self, state, action, rho = 1.0): \n",
    "        # get relevant feature\n",
    "        \n",
    "        cumulant, gamma = self.transition_gen(state)\n",
    "        self.cumulant = cumulant\n",
    "        \n",
    "        ## retrieve the values\n",
    "        last_vector = self.get_state_action_vector(self.last_state, self.last_action)\n",
    "        self.last_value = np.sum(self.weights*last_vector)\n",
    "        current_vector = np.zeros(self.iht_size*self.num_actions)\n",
    "        \n",
    "        ## mean current vector\n",
    "        for a in range(4):\n",
    "            current_vector += self.policy[state][a]*self.get_state_action_vector(state, a) \n",
    "        current_value = np.sum(self.weights*current_vector)\n",
    "        \n",
    "        ##GQ lambda update\n",
    "        \n",
    "        self.delta = self.cumulant + (gamma * current_value - self.last_value)\n",
    "        self.eligTrace = rho * self.lambd * self.last_gamma * self.eligTrace + last_vector\n",
    "        self.weights += self.alpha *(self.delta * self.eligTrace - gamma*(1-self.lambd)*np.sum(self.eligTrace * self.hWeights)*current_vector)\n",
    "        self.hWeights += self.beta * (self.delta*self.eligTrace - np.sum(self.hWeights*last_vector)*last_vector)\n",
    "        \n",
    "        ## update q_values\n",
    "        \n",
    "        #self.q_values[self.last_state, self.last_action] = np.sum(self.weights*last_vector)\n",
    "        self.update_qvalues()\n",
    "            \n",
    "        #for s in range(60):\n",
    "        #    for a in range(self.num_actions):\n",
    "        #        vector = self.get_state_action_vector(s, a)\n",
    "        #        self.q_values[s, a] = np.sum(self.weights*vector)\n",
    "        #        if self.control:\n",
    "        #            self.update_greedy_policy(s)\n",
    "        \n",
    "        self.last_gamma = gamma\n",
    "        self.last_state = state\n",
    "        #self.last_state = state\n",
    "        #self.last_action = action "
   ]
  },
  {
   "cell_type": "code",
   "execution_count": 66,
   "metadata": {},
   "outputs": [],
   "source": [
    "policy = np.ones(shape=(6 * 10, 4)) * 0.25\n",
    "random.seed(50)\n",
    "policy_2 = st.dirichlet.rvs(alpha = [1,7,1,1], size = 6*10)\n",
    "\n",
    "A_info_1 = {\n",
    "    \"control\": False,\n",
    "    \"policy\": policy_3,\n",
    "    \"lambda\" : 0.1,\n",
    "    \"alpha\": 0.1/4,\n",
    "    \"objective_states\" : [[2,4]],\n",
    "    \"transition_gen\" : deterministic_cumulant,\n",
    "    \"num_tiles\" : 4,\n",
    "    \"num_tilings\" : 4}\n",
    "\n",
    "A_info_2 = {\n",
    "    \"control\" : False,\n",
    "    \"policy\": policy_2,\n",
    "    \"lambda\" : 0.1,\n",
    "    \"alpha\": 0.1/4,\n",
    "    \"transition_gen\" : bernouilli_cumulant,\n",
    "    \"objective_states\" : [[4,6]]}\n",
    "\n",
    "A_info_3 = {\n",
    "    \"control\" : True,\n",
    "    \"policy\": policy,\n",
    "    \"lambda\" : 0.1,\n",
    "    \"alpha\": 0.1/4,\n",
    "    \"transition_gen\" : banana_or_cherry,\n",
    "    \"objective_states\" : [[2,4], [4,6]]}\n",
    "\n",
    "horde_info = {\n",
    "    \"valueGVF_number\" : 0,\n",
    "    \"actionGVF_number\" : 3,\n",
    "    \"A1\" : A_info_1,\n",
    "    \"A2\" : A_info_2,\n",
    "    \"A3\" : A_info_3,\n",
    "    \"policy\" : policy,\n",
    "    \"on_policy\" : True,\n",
    "    \"epsilon\" : 0.05,\n",
    "    \"on_policy_GVF\" : \"A3\"\n",
    "    }\n",
    "env_info = {\n",
    "    \"end_states\" : [[2,4], [4,6]]\n",
    "}"
   ]
  },
  {
   "cell_type": "code",
   "execution_count": 70,
   "metadata": {},
   "outputs": [
    {
     "name": "stdout",
     "output_type": "stream",
     "text": [
      "10\n"
     ]
    }
   ],
   "source": [
    "rl = run_experiment(horde_info, env_info, 10)"
   ]
  },
  {
   "cell_type": "code",
   "execution_count": 72,
   "metadata": {},
   "outputs": [],
   "source": [
    "tt = rl.horde.GVFs[\"A3\"].q_values"
   ]
  },
  {
   "cell_type": "code",
   "execution_count": 75,
   "metadata": {},
   "outputs": [
    {
     "data": {
      "text/plain": [
       "array([[0, 0, 0, 0, 0, 0, 0, 0, 0, 0],\n",
       "       [0, 0, 0, 0, 0, 0, 0, 0, 0, 0],\n",
       "       [0, 0, 0, 0, 1, 1, 2, 2, 0, 0],\n",
       "       [0, 1, 1, 1, 1, 1, 2, 2, 0, 0],\n",
       "       [1, 1, 1, 1, 1, 1, 1, 2, 0, 0],\n",
       "       [1, 1, 1, 0, 0, 1, 1, 0, 0, 0]])"
      ]
     },
     "execution_count": 75,
     "metadata": {},
     "output_type": "execute_result"
    }
   ],
   "source": [
    "tt.argmax(-1).reshape(6,10)"
   ]
  },
  {
   "cell_type": "code",
   "execution_count": 37,
   "metadata": {},
   "outputs": [
    {
     "name": "stdout",
     "output_type": "stream",
     "text": [
      "10\n",
      "20\n",
      "30\n",
      "40\n",
      "50\n",
      "60\n",
      "70\n",
      "80\n",
      "90\n",
      "100\n",
      "110\n",
      "120\n",
      "130\n",
      "140\n",
      "150\n",
      "160\n",
      "170\n",
      "180\n",
      "190\n",
      "200\n",
      "210\n",
      "220\n",
      "230\n",
      "240\n",
      "250\n",
      "260\n",
      "270\n",
      "280\n",
      "290\n",
      "300\n",
      "310\n",
      "320\n",
      "330\n",
      "340\n",
      "350\n",
      "360\n",
      "370\n",
      "380\n",
      "390\n",
      "400\n",
      "410\n",
      "420\n",
      "430\n",
      "440\n",
      "450\n",
      "460\n",
      "470\n",
      "480\n",
      "490\n",
      "500\n"
     ]
    }
   ],
   "source": [
    "seed = 22\n",
    "horde_info[\"seed\"] = seed\n",
    "rl = run_experiment(horde_info, env_info, 500)"
   ]
  },
  {
   "cell_type": "code",
   "execution_count": 31,
   "metadata": {},
   "outputs": [],
   "source": [
    "q = rl.horde.GVFs[\"A3\"].q_values"
   ]
  },
  {
   "cell_type": "code",
   "execution_count": 32,
   "metadata": {},
   "outputs": [
    {
     "data": {
      "image/png": "[encoded data removed]",
      "text/plain": [
       "<Figure size 432x288 with 2 Axes>"
      ]
     },
     "metadata": {
      "needs_background": "light"
     },
     "output_type": "display_data"
    }
   ],
   "source": [
    "q0 = q[:, 0]\n",
    "q1 = q[:, 1]\n",
    "q2 = q[:, 2]\n",
    "q3 = q[:, 3]\n",
    "\n",
    "h0 = sns.heatmap(q0.reshape(6,10), cmap = \"Blues\")"
   ]
  },
  {
   "cell_type": "code",
   "execution_count": 33,
   "metadata": {},
   "outputs": [
    {
     "data": {
      "image/png": "[encoded data removed]",
      "text/plain": [
       "<Figure size 432x288 with 2 Axes>"
      ]
     },
     "metadata": {
      "needs_background": "light"
     },
     "output_type": "display_data"
    }
   ],
   "source": [
    "h1 = sns.heatmap(q1.reshape(6,10), cmap = \"Blues\")"
   ]
  },
  {
   "cell_type": "code",
   "execution_count": 34,
   "metadata": {},
   "outputs": [
    {
     "data": {
      "image/png": "[encoded data removed]",
      "text/plain": [
       "<Figure size 432x288 with 2 Axes>"
      ]
     },
     "metadata": {
      "needs_background": "light"
     },
     "output_type": "display_data"
    }
   ],
   "source": [
    "h2 = sns.heatmap(q2.reshape(6,10), cmap = \"Blues\")"
   ]
  },
  {
   "cell_type": "code",
   "execution_count": 35,
   "metadata": {},
   "outputs": [
    {
     "data": {
      "image/png": "[encoded data removed]",
      "text/plain": [
       "<Figure size 432x288 with 2 Axes>"
      ]
     },
     "metadata": {
      "needs_background": "light"
     },
     "output_type": "display_data"
    }
   ],
   "source": [
    "h3 = sns.heatmap(q3.reshape(6,10), cmap = \"Blues\")"
   ]
  },
  {
   "cell_type": "code",
   "execution_count": 170,
   "metadata": {},
   "outputs": [
    {
     "data": {
      "text/plain": [
       "array([[1, 1, 2, 2, 0, 2, 2, 3, 0, 2],\n",
       "       [1, 1, 2, 2, 0, 2, 2, 0, 1, 2],\n",
       "       [0, 0, 1, 1, 0, 3, 3, 0, 0, 2],\n",
       "       [2, 0, 1, 0, 0, 0, 1, 2, 0, 2],\n",
       "       [2, 0, 1, 1, 0, 1, 1, 1, 0, 3],\n",
       "       [1, 1, 1, 1, 0, 0, 1, 0, 0, 3]])"
      ]
     },
     "execution_count": 170,
     "metadata": {},
     "output_type": "execute_result"
    }
   ],
   "source": [
    "q.argmax(-1).reshape(6,10)"
   ]
  },
  {
   "cell_type": "markdown",
   "metadata": {},
   "source": [
    "## count the visited states"
   ]
  },
  {
   "cell_type": "code",
   "execution_count": 78,
   "metadata": {
    "scrolled": true
   },
   "outputs": [
    {
     "name": "stderr",
     "output_type": "stream",
     "text": [
      "\n",
      "\n",
      "\n",
      "\n",
      "\n",
      "\n",
      "  0%|          | 0/10 [00:00<?, ?it/s]\u001b[A\u001b[A\u001b[A\u001b[A\u001b[A\u001b[A"
     ]
    },
    {
     "name": "stdout",
     "output_type": "stream",
     "text": [
      "run\n",
      "0\n"
     ]
    },
    {
     "name": "stderr",
     "output_type": "stream",
     "text": [
      "\n",
      "\n",
      "\n",
      "\n",
      "\n",
      "\n",
      " 10%|█         | 1/10 [00:49<07:25, 49.52s/it]\u001b[A\u001b[A\u001b[A\u001b[A\u001b[A\u001b[A"
     ]
    },
    {
     "name": "stdout",
     "output_type": "stream",
     "text": [
      "run\n",
      "1\n"
     ]
    },
    {
     "name": "stderr",
     "output_type": "stream",
     "text": [
      "\n",
      "\n",
      "\n",
      "\n",
      "\n",
      "\n",
      " 20%|██        | 2/10 [01:27<06:09, 46.20s/it]\u001b[A\u001b[A\u001b[A\u001b[A\u001b[A\u001b[A"
     ]
    },
    {
     "name": "stdout",
     "output_type": "stream",
     "text": [
      "run\n",
      "2\n"
     ]
    },
    {
     "name": "stderr",
     "output_type": "stream",
     "text": [
      "\n",
      "\n",
      "\n",
      "\n",
      "\n",
      "\n",
      " 30%|███       | 3/10 [02:48<06:34, 56.42s/it]\u001b[A\u001b[A\u001b[A\u001b[A\u001b[A\u001b[A"
     ]
    },
    {
     "name": "stdout",
     "output_type": "stream",
     "text": [
      "run\n",
      "3\n"
     ]
    },
    {
     "name": "stderr",
     "output_type": "stream",
     "text": [
      "\n",
      "\n",
      "\n",
      "\n",
      "\n",
      "\n",
      " 40%|████      | 4/10 [03:49<05:47, 57.97s/it]\u001b[A\u001b[A\u001b[A\u001b[A\u001b[A\u001b[A"
     ]
    },
    {
     "name": "stdout",
     "output_type": "stream",
     "text": [
      "run\n",
      "4\n"
     ]
    },
    {
     "name": "stderr",
     "output_type": "stream",
     "text": [
      "\n",
      "\n",
      "\n",
      "\n",
      "\n",
      "\n",
      " 50%|█████     | 5/10 [05:02<05:11, 62.34s/it]\u001b[A\u001b[A\u001b[A\u001b[A\u001b[A\u001b[A"
     ]
    },
    {
     "name": "stdout",
     "output_type": "stream",
     "text": [
      "run\n",
      "5\n"
     ]
    },
    {
     "name": "stderr",
     "output_type": "stream",
     "text": [
      "\n",
      "\n",
      "\n",
      "\n",
      "\n",
      "\n",
      " 60%|██████    | 6/10 [06:07<04:12, 63.19s/it]\u001b[A\u001b[A\u001b[A\u001b[A\u001b[A\u001b[A"
     ]
    },
    {
     "name": "stdout",
     "output_type": "stream",
     "text": [
      "run\n",
      "6\n"
     ]
    },
    {
     "name": "stderr",
     "output_type": "stream",
     "text": [
      "\n",
      "\n",
      "\n",
      "\n",
      "\n",
      "\n",
      " 70%|███████   | 7/10 [06:55<02:56, 58.77s/it]\u001b[A\u001b[A\u001b[A\u001b[A\u001b[A\u001b[A"
     ]
    },
    {
     "name": "stdout",
     "output_type": "stream",
     "text": [
      "run\n",
      "7\n"
     ]
    },
    {
     "name": "stderr",
     "output_type": "stream",
     "text": [
      "\n",
      "\n",
      "\n",
      "\n",
      "\n",
      "\n",
      " 80%|████████  | 8/10 [07:54<01:57, 58.67s/it]\u001b[A\u001b[A\u001b[A\u001b[A\u001b[A\u001b[A"
     ]
    },
    {
     "name": "stdout",
     "output_type": "stream",
     "text": [
      "run\n",
      "8\n"
     ]
    },
    {
     "name": "stderr",
     "output_type": "stream",
     "text": [
      "\n",
      "\n",
      "\n",
      "\n",
      "\n",
      "\n",
      " 90%|█████████ | 9/10 [08:43<00:55, 55.94s/it]\u001b[A\u001b[A\u001b[A\u001b[A\u001b[A\u001b[A"
     ]
    },
    {
     "name": "stdout",
     "output_type": "stream",
     "text": [
      "run\n",
      "9\n"
     ]
    },
    {
     "name": "stderr",
     "output_type": "stream",
     "text": [
      "\n",
      "\n",
      "\n",
      "\n",
      "\n",
      "\n",
      "100%|██████████| 10/10 [10:00<00:00, 60.01s/it]\u001b[A\u001b[A\u001b[A\u001b[A\u001b[A\u001b[A\n"
     ]
    }
   ],
   "source": [
    "num_runs = 10\n",
    "num_episodes = 100\n",
    "all_state_visits = []\n",
    "for run in tqdm(range(num_runs)):\n",
    "    print(\"run\")\n",
    "    print(run)\n",
    "    env = ToyEnvironment\n",
    "    horde = Horde\n",
    "    horde_info[\"seed\"] = run\n",
    "    rl_glue = RLGlueHorde(env, horde)\n",
    "    rl_glue.rl_init(horde_info, env_info)\n",
    "    state_visits = np.zeros(60)\n",
    "    for episode in range(num_episodes):\n",
    "        # Runs an episode while keeping track of visited states\n",
    "        state, action = rl_glue.rl_start()\n",
    "        if episode >= num_episodes - 10:\n",
    "            state_visits[state] += 1\n",
    "        is_terminal = False\n",
    "        while not is_terminal:\n",
    "            state, action, is_terminal = rl_glue.rl_step()\n",
    "            if episode >= num_episodes - 10:\n",
    "                state_visits[state] += 1\n",
    "    all_state_visits.append(state_visits)\n"
   ]
  },
  {
   "cell_type": "code",
   "execution_count": 287,
   "metadata": {},
   "outputs": [
    {
     "data": {
      "text/plain": [
       "<matplotlib.axes._subplots.AxesSubplot at 0x7f97899d7450>"
      ]
     },
     "execution_count": 287,
     "metadata": {},
     "output_type": "execute_result"
    },
    {
     "data": {
      "image/png": "[encoded data removed]",
      "text/plain": [
       "<Figure size 432x288 with 2 Axes>"
      ]
     },
     "metadata": {
      "needs_background": "light"
     },
     "output_type": "display_data"
    }
   ],
   "source": [
    "sns.heatmap(np.round(np.array(all_state_visits).mean(0).reshape(6,10), 2), cmap = \"Blues\")"
   ]
  },
  {
   "cell_type": "code",
   "execution_count": 289,
   "metadata": {},
   "outputs": [],
   "source": [
    "mean_state_visits = np.round(np.array(all_state_visits).mean(0).reshape(6,10), 2)"
   ]
  },
  {
   "cell_type": "code",
   "execution_count": 291,
   "metadata": {},
   "outputs": [],
   "source": [
    "np.save(\"mean_state_visits_10runs\", mean_state_visits)"
   ]
  },
  {
   "cell_type": "code",
   "execution_count": 79,
   "metadata": {},
   "outputs": [],
   "source": [
    "mean_state_visits = np.round(np.array(all_state_visits).mean(0).reshape(6,10), 2)"
   ]
  },
  {
   "cell_type": "code",
   "execution_count": 81,
   "metadata": {},
   "outputs": [
    {
     "data": {
      "text/plain": [
       "<matplotlib.axes._subplots.AxesSubplot at 0x7ff579eb7210>"
      ]
     },
     "execution_count": 81,
     "metadata": {},
     "output_type": "execute_result"
    },
    {
     "data": {
      "image/png": "[encoded data removed]",
      "text/plain": [
       "<Figure size 432x288 with 2 Axes>"
      ]
     },
     "metadata": {
      "needs_background": "light"
     },
     "output_type": "display_data"
    }
   ],
   "source": [
    " sns.heatmap(mean_state_visits, cmap = \"Blues\")"
   ]
  },
  {
   "cell_type": "code",
   "execution_count": null,
   "metadata": {},
   "outputs": [],
   "source": []
  }
 ],
 "metadata": {
  "kernelspec": {
   "display_name": "Python 3",
   "language": "python",
   "name": "python3"
  },
  "language_info": {
   "codemirror_mode": {
    "name": "ipython",
    "version": 3
   },
   "file_extension": ".py",
   "mimetype": "text/x-python",
   "name": "python",
   "nbconvert_exporter": "python",
   "pygments_lexer": "ipython3",
   "version": "3.7.6"
  }
 },
 "nbformat": 4,
 "nbformat_minor": 4
}
